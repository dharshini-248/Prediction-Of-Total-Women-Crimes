{
  "cells": [
    {
      "cell_type": "markdown",
      "metadata": {
        "id": "view-in-github",
        "colab_type": "text"
      },
      "source": [
        "<a href=\"https://colab.research.google.com/github/dharshini-248/Prediction-Of-Total-Women-Crimes/blob/main/Women_crimes_time_series_Main.ipynb\" target=\"_parent\"><img src=\"https://colab.research.google.com/assets/colab-badge.svg\" alt=\"Open In Colab\"/></a>"
      ]
    },
    {
      "cell_type": "code",
      "execution_count": null,
      "metadata": {
        "id": "Ic_ImQMpNq0i",
        "colab": {
          "base_uri": "https://localhost:8080/",
          "height": 919
        },
        "outputId": "c8236daa-8796-4675-f90b-a8b1e91c5be6"
      },
      "outputs": [
        {
          "output_type": "stream",
          "name": "stderr",
          "text": [
            "/usr/local/lib/python3.7/dist-packages/ipykernel_launcher.py:5: FutureWarning: The pandas.datetime class is deprecated and will be removed from pandas in a future version. Import from datetime module instead.\n",
            "  \"\"\"\n"
          ]
        },
        {
          "output_type": "stream",
          "name": "stdout",
          "text": [
            "            total_crimes\n",
            "year                    \n",
            "2001-01-01        218861\n",
            "2002-01-01        257084\n",
            "2003-01-01        257685\n",
            "2004-01-01        281922\n",
            "2005-01-01        281627\n",
            "2006-01-01        302594\n",
            "2007-01-01        327176\n",
            "2008-01-01        366878\n",
            "2009-01-01        383167\n",
            "2010-01-01        403645\n",
            "2011-01-01        431221\n",
            "2012-01-01        457197\n",
            "2013-01-01        575254\n",
            "2014-01-01         62511\n",
            "2015-01-01        311272\n",
            "2016-01-01        322949\n",
            "2017-01-01        345989\n",
            "2018-01-01        363817\n",
            "2019-01-01        391601\n"
          ]
        },
        {
          "output_type": "display_data",
          "data": {
            "image/png": "[encoded data removed]",
            "text/plain": [
              "<Figure size 864x576 with 1 Axes>"
            ]
          },
          "metadata": {
            "needs_background": "light"
          }
        }
      ],
      "source": [
        "import numpy as np\n",
        "import pandas as pd\n",
        "import matplotlib.pyplot as plt\n",
        "%matplotlib inline\n",
        "from pandas import datetime\n",
        "from statsmodels.tsa.stattools import adfuller\n",
        "#import adfuller for stationery testing\n",
        "dataset=pd.read_excel(\"time series.xlsx\",parse_dates=['year'])#To read the date column correctly, we can use the argument parse_dates to specify a list of date columns.\n",
        "dataset['year']=pd.to_datetime(dataset['year'],infer_datetime_format=True)\n",
        "# If True and no format is given, attempt to infer the format of the datetime strings, and if it can be inferred, switch to a faster method of parsing them. \n",
        "indexedDataset=dataset.set_index(['year'])\n",
        "from datetime import datetime\n",
        "indexedDataset.head(5)\n",
        "plt.xlabel(\"Date\")\n",
        "plt.ylabel(\"total crimes\")\n",
        "indexedDataset['total_crimes'].plot(figsize=(12,8))\n",
        "print(indexedDataset)"
      ]
    },
    {
      "cell_type": "code",
      "source": [
        "indexedDataset.style.background_gradient(cmap='Reds')"
      ],
      "metadata": {
        "colab": {
          "base_uri": "https://localhost:8080/",
          "height": 677
        },
        "id": "3sjBuvL7Nzsk",
        "outputId": "2689f182-04d6-4d3e-be8b-5da133aaedd7"
      },
      "execution_count": null,
      "outputs": [
        {
          "output_type": "execute_result",
          "data": {
            "text/html": [
              "<style type=\"text/css\">\n",
              "#T_04067_row0_col0 {\n",
              "  background-color: #fca98c;\n",
              "  color: #000000;\n",
              "}\n",
              "#T_04067_row1_col0, #T_04067_row2_col0 {\n",
              "  background-color: #fc9070;\n",
              "  color: #000000;\n",
              "}\n",
              "#T_04067_row3_col0, #T_04067_row4_col0 {\n",
              "  background-color: #fc8161;\n",
              "  color: #f1f1f1;\n",
              "}\n",
              "#T_04067_row5_col0 {\n",
              "  background-color: #fb7555;\n",
              "  color: #f1f1f1;\n",
              "}\n",
              "#T_04067_row6_col0 {\n",
              "  background-color: #f96346;\n",
              "  color: #f1f1f1;\n",
              "}\n",
              "#T_04067_row7_col0 {\n",
              "  background-color: #f24734;\n",
              "  color: #f1f1f1;\n",
              "}\n",
              "#T_04067_row8_col0 {\n",
              "  background-color: #ee3a2c;\n",
              "  color: #f1f1f1;\n",
              "}\n",
              "#T_04067_row9_col0 {\n",
              "  background-color: #e32f27;\n",
              "  color: #f1f1f1;\n",
              "}\n",
              "#T_04067_row10_col0 {\n",
              "  background-color: #d32020;\n",
              "  color: #f1f1f1;\n",
              "}\n",
              "#T_04067_row11_col0 {\n",
              "  background-color: #c4161c;\n",
              "  color: #f1f1f1;\n",
              "}\n",
              "#T_04067_row12_col0 {\n",
              "  background-color: #67000d;\n",
              "  color: #f1f1f1;\n",
              "}\n",
              "#T_04067_row13_col0 {\n",
              "  background-color: #fff5f0;\n",
              "  color: #000000;\n",
              "}\n",
              "#T_04067_row14_col0 {\n",
              "  background-color: #fb6e4e;\n",
              "  color: #f1f1f1;\n",
              "}\n",
              "#T_04067_row15_col0 {\n",
              "  background-color: #fa6648;\n",
              "  color: #f1f1f1;\n",
              "}\n",
              "#T_04067_row16_col0 {\n",
              "  background-color: #f6563d;\n",
              "  color: #f1f1f1;\n",
              "}\n",
              "#T_04067_row17_col0 {\n",
              "  background-color: #f34935;\n",
              "  color: #f1f1f1;\n",
              "}\n",
              "#T_04067_row18_col0 {\n",
              "  background-color: #ea362a;\n",
              "  color: #f1f1f1;\n",
              "}\n",
              "</style>\n",
              "<table id=\"T_04067_\" class=\"dataframe\">\n",
              "  <thead>\n",
              "    <tr>\n",
              "      <th class=\"blank level0\" >&nbsp;</th>\n",
              "      <th class=\"col_heading level0 col0\" >total_crimes</th>\n",
              "    </tr>\n",
              "    <tr>\n",
              "      <th class=\"index_name level0\" >year</th>\n",
              "      <th class=\"blank col0\" >&nbsp;</th>\n",
              "    </tr>\n",
              "  </thead>\n",
              "  <tbody>\n",
              "    <tr>\n",
              "      <th id=\"T_04067_level0_row0\" class=\"row_heading level0 row0\" >2001-01-01 00:00:00</th>\n",
              "      <td id=\"T_04067_row0_col0\" class=\"data row0 col0\" >218861</td>\n",
              "    </tr>\n",
              "    <tr>\n",
              "      <th id=\"T_04067_level0_row1\" class=\"row_heading level0 row1\" >2002-01-01 00:00:00</th>\n",
              "      <td id=\"T_04067_row1_col0\" class=\"data row1 col0\" >257084</td>\n",
              "    </tr>\n",
              "    <tr>\n",
              "      <th id=\"T_04067_level0_row2\" class=\"row_heading level0 row2\" >2003-01-01 00:00:00</th>\n",
              "      <td id=\"T_04067_row2_col0\" class=\"data row2 col0\" >257685</td>\n",
              "    </tr>\n",
              "    <tr>\n",
              "      <th id=\"T_04067_level0_row3\" class=\"row_heading level0 row3\" >2004-01-01 00:00:00</th>\n",
              "      <td id=\"T_04067_row3_col0\" class=\"data row3 col0\" >281922</td>\n",
              "    </tr>\n",
              "    <tr>\n",
              "      <th id=\"T_04067_level0_row4\" class=\"row_heading level0 row4\" >2005-01-01 00:00:00</th>\n",
              "      <td id=\"T_04067_row4_col0\" class=\"data row4 col0\" >281627</td>\n",
              "    </tr>\n",
              "    <tr>\n",
              "      <th id=\"T_04067_level0_row5\" class=\"row_heading level0 row5\" >2006-01-01 00:00:00</th>\n",
              "      <td id=\"T_04067_row5_col0\" class=\"data row5 col0\" >302594</td>\n",
              "    </tr>\n",
              "    <tr>\n",
              "      <th id=\"T_04067_level0_row6\" class=\"row_heading level0 row6\" >2007-01-01 00:00:00</th>\n",
              "      <td id=\"T_04067_row6_col0\" class=\"data row6 col0\" >327176</td>\n",
              "    </tr>\n",
              "    <tr>\n",
              "      <th id=\"T_04067_level0_row7\" class=\"row_heading level0 row7\" >2008-01-01 00:00:00</th>\n",
              "      <td id=\"T_04067_row7_col0\" class=\"data row7 col0\" >366878</td>\n",
              "    </tr>\n",
              "    <tr>\n",
              "      <th id=\"T_04067_level0_row8\" class=\"row_heading level0 row8\" >2009-01-01 00:00:00</th>\n",
              "      <td id=\"T_04067_row8_col0\" class=\"data row8 col0\" >383167</td>\n",
              "    </tr>\n",
              "    <tr>\n",
              "      <th id=\"T_04067_level0_row9\" class=\"row_heading level0 row9\" >2010-01-01 00:00:00</th>\n",
              "      <td id=\"T_04067_row9_col0\" class=\"data row9 col0\" >403645</td>\n",
              "    </tr>\n",
              "    <tr>\n",
              "      <th id=\"T_04067_level0_row10\" class=\"row_heading level0 row10\" >2011-01-01 00:00:00</th>\n",
              "      <td id=\"T_04067_row10_col0\" class=\"data row10 col0\" >431221</td>\n",
              "    </tr>\n",
              "    <tr>\n",
              "      <th id=\"T_04067_level0_row11\" class=\"row_heading level0 row11\" >2012-01-01 00:00:00</th>\n",
              "      <td id=\"T_04067_row11_col0\" class=\"data row11 col0\" >457197</td>\n",
              "    </tr>\n",
              "    <tr>\n",
              "      <th id=\"T_04067_level0_row12\" class=\"row_heading level0 row12\" >2013-01-01 00:00:00</th>\n",
              "      <td id=\"T_04067_row12_col0\" class=\"data row12 col0\" >575254</td>\n",
              "    </tr>\n",
              "    <tr>\n",
              "      <th id=\"T_04067_level0_row13\" class=\"row_heading level0 row13\" >2014-01-01 00:00:00</th>\n",
              "      <td id=\"T_04067_row13_col0\" class=\"data row13 col0\" >62511</td>\n",
              "    </tr>\n",
              "    <tr>\n",
              "      <th id=\"T_04067_level0_row14\" class=\"row_heading level0 row14\" >2015-01-01 00:00:00</th>\n",
              "      <td id=\"T_04067_row14_col0\" class=\"data row14 col0\" >311272</td>\n",
              "    </tr>\n",
              "    <tr>\n",
              "      <th id=\"T_04067_level0_row15\" class=\"row_heading level0 row15\" >2016-01-01 00:00:00</th>\n",
              "      <td id=\"T_04067_row15_col0\" class=\"data row15 col0\" >322949</td>\n",
              "    </tr>\n",
              "    <tr>\n",
              "      <th id=\"T_04067_level0_row16\" class=\"row_heading level0 row16\" >2017-01-01 00:00:00</th>\n",
              "      <td id=\"T_04067_row16_col0\" class=\"data row16 col0\" >345989</td>\n",
              "    </tr>\n",
              "    <tr>\n",
              "      <th id=\"T_04067_level0_row17\" class=\"row_heading level0 row17\" >2018-01-01 00:00:00</th>\n",
              "      <td id=\"T_04067_row17_col0\" class=\"data row17 col0\" >363817</td>\n",
              "    </tr>\n",
              "    <tr>\n",
              "      <th id=\"T_04067_level0_row18\" class=\"row_heading level0 row18\" >2019-01-01 00:00:00</th>\n",
              "      <td id=\"T_04067_row18_col0\" class=\"data row18 col0\" >391601</td>\n",
              "    </tr>\n",
              "  </tbody>\n",
              "</table>\n"
            ],
            "text/plain": [
              "<pandas.io.formats.style.Styler at 0x7f22a3ed5350>"
            ]
          },
          "metadata": {},
          "execution_count": 3
        }
      ]
    },
    {
      "cell_type": "code",
      "source": [
        "Tot_Cases = indexedDataset.groupby('year')['total_crimes'].sum().sort_values(ascending=False).to_frame()\n",
        "Tot_Cases.style.background_gradient(cmap='Reds')"
      ],
      "metadata": {
        "colab": {
          "base_uri": "https://localhost:8080/",
          "height": 677
        },
        "id": "VoN_BtmoN41u",
        "outputId": "01135664-5818-427c-b92c-6652624d9a61"
      },
      "execution_count": null,
      "outputs": [
        {
          "output_type": "execute_result",
          "data": {
            "text/html": [
              "<style type=\"text/css\">\n",
              "#T_d8700_row0_col0 {\n",
              "  background-color: #67000d;\n",
              "  color: #f1f1f1;\n",
              "}\n",
              "#T_d8700_row1_col0 {\n",
              "  background-color: #c4161c;\n",
              "  color: #f1f1f1;\n",
              "}\n",
              "#T_d8700_row2_col0 {\n",
              "  background-color: #d32020;\n",
              "  color: #f1f1f1;\n",
              "}\n",
              "#T_d8700_row3_col0 {\n",
              "  background-color: #e32f27;\n",
              "  color: #f1f1f1;\n",
              "}\n",
              "#T_d8700_row4_col0 {\n",
              "  background-color: #ea362a;\n",
              "  color: #f1f1f1;\n",
              "}\n",
              "#T_d8700_row5_col0 {\n",
              "  background-color: #ee3a2c;\n",
              "  color: #f1f1f1;\n",
              "}\n",
              "#T_d8700_row6_col0 {\n",
              "  background-color: #f24734;\n",
              "  color: #f1f1f1;\n",
              "}\n",
              "#T_d8700_row7_col0 {\n",
              "  background-color: #f34935;\n",
              "  color: #f1f1f1;\n",
              "}\n",
              "#T_d8700_row8_col0 {\n",
              "  background-color: #f6563d;\n",
              "  color: #f1f1f1;\n",
              "}\n",
              "#T_d8700_row9_col0 {\n",
              "  background-color: #f96346;\n",
              "  color: #f1f1f1;\n",
              "}\n",
              "#T_d8700_row10_col0 {\n",
              "  background-color: #fa6648;\n",
              "  color: #f1f1f1;\n",
              "}\n",
              "#T_d8700_row11_col0 {\n",
              "  background-color: #fb6e4e;\n",
              "  color: #f1f1f1;\n",
              "}\n",
              "#T_d8700_row12_col0 {\n",
              "  background-color: #fb7555;\n",
              "  color: #f1f1f1;\n",
              "}\n",
              "#T_d8700_row13_col0, #T_d8700_row14_col0 {\n",
              "  background-color: #fc8161;\n",
              "  color: #f1f1f1;\n",
              "}\n",
              "#T_d8700_row15_col0, #T_d8700_row16_col0 {\n",
              "  background-color: #fc9070;\n",
              "  color: #000000;\n",
              "}\n",
              "#T_d8700_row17_col0 {\n",
              "  background-color: #fca98c;\n",
              "  color: #000000;\n",
              "}\n",
              "#T_d8700_row18_col0 {\n",
              "  background-color: #fff5f0;\n",
              "  color: #000000;\n",
              "}\n",
              "</style>\n",
              "<table id=\"T_d8700_\" class=\"dataframe\">\n",
              "  <thead>\n",
              "    <tr>\n",
              "      <th class=\"blank level0\" >&nbsp;</th>\n",
              "      <th class=\"col_heading level0 col0\" >total_crimes</th>\n",
              "    </tr>\n",
              "    <tr>\n",
              "      <th class=\"index_name level0\" >year</th>\n",
              "      <th class=\"blank col0\" >&nbsp;</th>\n",
              "    </tr>\n",
              "  </thead>\n",
              "  <tbody>\n",
              "    <tr>\n",
              "      <th id=\"T_d8700_level0_row0\" class=\"row_heading level0 row0\" >2013-01-01 00:00:00</th>\n",
              "      <td id=\"T_d8700_row0_col0\" class=\"data row0 col0\" >575254</td>\n",
              "    </tr>\n",
              "    <tr>\n",
              "      <th id=\"T_d8700_level0_row1\" class=\"row_heading level0 row1\" >2012-01-01 00:00:00</th>\n",
              "      <td id=\"T_d8700_row1_col0\" class=\"data row1 col0\" >457197</td>\n",
              "    </tr>\n",
              "    <tr>\n",
              "      <th id=\"T_d8700_level0_row2\" class=\"row_heading level0 row2\" >2011-01-01 00:00:00</th>\n",
              "      <td id=\"T_d8700_row2_col0\" class=\"data row2 col0\" >431221</td>\n",
              "    </tr>\n",
              "    <tr>\n",
              "      <th id=\"T_d8700_level0_row3\" class=\"row_heading level0 row3\" >2010-01-01 00:00:00</th>\n",
              "      <td id=\"T_d8700_row3_col0\" class=\"data row3 col0\" >403645</td>\n",
              "    </tr>\n",
              "    <tr>\n",
              "      <th id=\"T_d8700_level0_row4\" class=\"row_heading level0 row4\" >2019-01-01 00:00:00</th>\n",
              "      <td id=\"T_d8700_row4_col0\" class=\"data row4 col0\" >391601</td>\n",
              "    </tr>\n",
              "    <tr>\n",
              "      <th id=\"T_d8700_level0_row5\" class=\"row_heading level0 row5\" >2009-01-01 00:00:00</th>\n",
              "      <td id=\"T_d8700_row5_col0\" class=\"data row5 col0\" >383167</td>\n",
              "    </tr>\n",
              "    <tr>\n",
              "      <th id=\"T_d8700_level0_row6\" class=\"row_heading level0 row6\" >2008-01-01 00:00:00</th>\n",
              "      <td id=\"T_d8700_row6_col0\" class=\"data row6 col0\" >366878</td>\n",
              "    </tr>\n",
              "    <tr>\n",
              "      <th id=\"T_d8700_level0_row7\" class=\"row_heading level0 row7\" >2018-01-01 00:00:00</th>\n",
              "      <td id=\"T_d8700_row7_col0\" class=\"data row7 col0\" >363817</td>\n",
              "    </tr>\n",
              "    <tr>\n",
              "      <th id=\"T_d8700_level0_row8\" class=\"row_heading level0 row8\" >2017-01-01 00:00:00</th>\n",
              "      <td id=\"T_d8700_row8_col0\" class=\"data row8 col0\" >345989</td>\n",
              "    </tr>\n",
              "    <tr>\n",
              "      <th id=\"T_d8700_level0_row9\" class=\"row_heading level0 row9\" >2007-01-01 00:00:00</th>\n",
              "      <td id=\"T_d8700_row9_col0\" class=\"data row9 col0\" >327176</td>\n",
              "    </tr>\n",
              "    <tr>\n",
              "      <th id=\"T_d8700_level0_row10\" class=\"row_heading level0 row10\" >2016-01-01 00:00:00</th>\n",
              "      <td id=\"T_d8700_row10_col0\" class=\"data row10 col0\" >322949</td>\n",
              "    </tr>\n",
              "    <tr>\n",
              "      <th id=\"T_d8700_level0_row11\" class=\"row_heading level0 row11\" >2015-01-01 00:00:00</th>\n",
              "      <td id=\"T_d8700_row11_col0\" class=\"data row11 col0\" >311272</td>\n",
              "    </tr>\n",
              "    <tr>\n",
              "      <th id=\"T_d8700_level0_row12\" class=\"row_heading level0 row12\" >2006-01-01 00:00:00</th>\n",
              "      <td id=\"T_d8700_row12_col0\" class=\"data row12 col0\" >302594</td>\n",
              "    </tr>\n",
              "    <tr>\n",
              "      <th id=\"T_d8700_level0_row13\" class=\"row_heading level0 row13\" >2004-01-01 00:00:00</th>\n",
              "      <td id=\"T_d8700_row13_col0\" class=\"data row13 col0\" >281922</td>\n",
              "    </tr>\n",
              "    <tr>\n",
              "      <th id=\"T_d8700_level0_row14\" class=\"row_heading level0 row14\" >2005-01-01 00:00:00</th>\n",
              "      <td id=\"T_d8700_row14_col0\" class=\"data row14 col0\" >281627</td>\n",
              "    </tr>\n",
              "    <tr>\n",
              "      <th id=\"T_d8700_level0_row15\" class=\"row_heading level0 row15\" >2003-01-01 00:00:00</th>\n",
              "      <td id=\"T_d8700_row15_col0\" class=\"data row15 col0\" >257685</td>\n",
              "    </tr>\n",
              "    <tr>\n",
              "      <th id=\"T_d8700_level0_row16\" class=\"row_heading level0 row16\" >2002-01-01 00:00:00</th>\n",
              "      <td id=\"T_d8700_row16_col0\" class=\"data row16 col0\" >257084</td>\n",
              "    </tr>\n",
              "    <tr>\n",
              "      <th id=\"T_d8700_level0_row17\" class=\"row_heading level0 row17\" >2001-01-01 00:00:00</th>\n",
              "      <td id=\"T_d8700_row17_col0\" class=\"data row17 col0\" >218861</td>\n",
              "    </tr>\n",
              "    <tr>\n",
              "      <th id=\"T_d8700_level0_row18\" class=\"row_heading level0 row18\" >2014-01-01 00:00:00</th>\n",
              "      <td id=\"T_d8700_row18_col0\" class=\"data row18 col0\" >62511</td>\n",
              "    </tr>\n",
              "  </tbody>\n",
              "</table>\n"
            ],
            "text/plain": [
              "<pandas.io.formats.style.Styler at 0x7f22a3a9e910>"
            ]
          },
          "metadata": {},
          "execution_count": 4
        }
      ]
    },
    {
      "cell_type": "code",
      "execution_count": null,
      "metadata": {
        "id": "QkKY4MMYP2L8",
        "colab": {
          "base_uri": "https://localhost:8080/"
        },
        "outputId": "43ebec15-77ae-4889-bc9b-1b2c00ec817a"
      },
      "outputs": [
        {
          "output_type": "stream",
          "name": "stdout",
          "text": [
            "            total_crimes\n",
            "year                    \n",
            "2001-01-01           NaN\n",
            "2002-01-01           NaN\n",
            "2003-01-01           NaN\n",
            "2004-01-01           NaN\n",
            "2005-01-01      259435.8\n",
            "2006-01-01      276182.4\n",
            "2007-01-01      290200.8\n",
            "2008-01-01      312039.4\n",
            "2009-01-01      332288.4\n",
            "2010-01-01      356692.0\n",
            "2011-01-01      382417.4\n",
            "2012-01-01      408421.6\n",
            "2013-01-01      450096.8\n",
            "2014-01-01      385965.6\n",
            "2015-01-01      367491.0\n",
            "2016-01-01      345836.6\n",
            "2017-01-01      323595.0\n",
            "2018-01-01      281307.6\n",
            "2019-01-01      347125.6              total_crimes\n",
            "year                     \n",
            "2001-01-01            NaN\n",
            "2002-01-01            NaN\n",
            "2003-01-01            NaN\n",
            "2004-01-01            NaN\n",
            "2005-01-01   25753.588133\n",
            "2006-01-01   19151.122560\n",
            "2007-01-01   26077.205788\n",
            "2008-01-01   35908.133296\n",
            "2009-01-01   42601.478382\n",
            "2010-01-01   41252.431110\n",
            "2011-01-01   39134.541971\n",
            "2012-01-01   36350.150327\n",
            "2013-01-01   75346.534806\n",
            "2014-01-01  192280.720169\n",
            "2015-01-01  194581.293979\n",
            "2016-01-01  191719.477058\n",
            "2017-01-01  181762.807126\n",
            "2018-01-01  123991.237823\n",
            "2019-01-01   32124.540927\n"
          ]
        }
      ],
      "source": [
        "#determining rolling statistics\n",
        "rolmean=indexedDataset.rolling(window=5).mean()\n",
        "rolstd=indexedDataset.rolling(window=5).std()\n",
        "print(rolmean,rolstd)"
      ]
    },
    {
      "cell_type": "code",
      "execution_count": null,
      "metadata": {
        "id": "iLEJW7KLOFdl",
        "colab": {
          "base_uri": "https://localhost:8080/",
          "height": 281
        },
        "outputId": "dc4a81f2-2822-4da2-a704-42bdb9c4ee1a"
      },
      "outputs": [
        {
          "output_type": "display_data",
          "data": {
            "image/png": "[encoded data removed]",
            "text/plain": [
              "<Figure size 432x288 with 1 Axes>"
            ]
          },
          "metadata": {
            "needs_background": "light"
          }
        }
      ],
      "source": [
        "#plot rolling statistics\n",
        "orig=plt.plot(indexedDataset,color='blue',label='original')\n",
        "mean=plt.plot(rolmean,color='red',label='rolling mean')\n",
        "std=plt.plot(rolstd,color='black',label='rolling std')\n",
        "plt.legend(loc='best')\n",
        "plt.title('rolling mean & standard deviation')\n",
        "plt.show(block=False)"
      ]
    },
    {
      "cell_type": "code",
      "execution_count": null,
      "metadata": {
        "id": "Rt9oaufSP_t4"
      },
      "outputs": [],
      "source": [
        "#perform ADCF test\n",
        "from statsmodels.tsa.stattools import adfuller\n",
        "\n",
        "def ad_test(indexedDataset):\n",
        "  dftest=adfuller(indexedDataset,autolag='AIC')\n",
        "  print('1.ADF test',dftest[0])\n",
        "  print('2.p-value',dftest[1])\n",
        "  print('3.num of lags',dftest[2])\n",
        "  print('4.num of observations',dftest[3])\n",
        "  print('5.critical values')\n",
        "  for key,value in dftest[4].items():\n",
        "    print(key,value)"
      ]
    },
    {
      "cell_type": "code",
      "execution_count": null,
      "metadata": {
        "id": "79LCW-ZgQDHN",
        "colab": {
          "base_uri": "https://localhost:8080/"
        },
        "outputId": "15675788-48a7-4a6a-cded-7de823571fab"
      },
      "outputs": [
        {
          "output_type": "stream",
          "name": "stdout",
          "text": [
            "1.ADF test -3.7177724803587306\n",
            "2.p-value 0.003870000713970999\n",
            "3.num of lags 0\n",
            "4.num of observations 18\n",
            "5.critical values\n",
            "1% -3.859073285322359\n",
            "5% -3.0420456927297668\n",
            "10% -2.6609064197530863\n"
          ]
        }
      ],
      "source": [
        "ad_test(indexedDataset['total_crimes'])"
      ]
    },
    {
      "cell_type": "code",
      "execution_count": null,
      "metadata": {
        "id": "R2tPhDkMQLq9",
        "colab": {
          "base_uri": "https://localhost:8080/",
          "height": 238
        },
        "outputId": "d3f1b923-0c57-48a5-c372-4c31ebe657e6"
      },
      "outputs": [
        {
          "output_type": "execute_result",
          "data": {
            "text/html": [
              "\n",
              "  <div id=\"df-235429ca-9f28-4b4f-a26b-71dd97375af4\">\n",
              "    <div class=\"colab-df-container\">\n",
              "      <div>\n",
              "<style scoped>\n",
              "    .dataframe tbody tr th:only-of-type {\n",
              "        vertical-align: middle;\n",
              "    }\n",
              "\n",
              "    .dataframe tbody tr th {\n",
              "        vertical-align: top;\n",
              "    }\n",
              "\n",
              "    .dataframe thead th {\n",
              "        text-align: right;\n",
              "    }\n",
              "</style>\n",
              "<table border=\"1\" class=\"dataframe\">\n",
              "  <thead>\n",
              "    <tr style=\"text-align: right;\">\n",
              "      <th></th>\n",
              "      <th>total_crimes</th>\n",
              "    </tr>\n",
              "    <tr>\n",
              "      <th>year</th>\n",
              "      <th></th>\n",
              "    </tr>\n",
              "  </thead>\n",
              "  <tbody>\n",
              "    <tr>\n",
              "      <th>2002-01-01</th>\n",
              "      <td>38223.0</td>\n",
              "    </tr>\n",
              "    <tr>\n",
              "      <th>2003-01-01</th>\n",
              "      <td>601.0</td>\n",
              "    </tr>\n",
              "    <tr>\n",
              "      <th>2004-01-01</th>\n",
              "      <td>24237.0</td>\n",
              "    </tr>\n",
              "    <tr>\n",
              "      <th>2005-01-01</th>\n",
              "      <td>-295.0</td>\n",
              "    </tr>\n",
              "    <tr>\n",
              "      <th>2006-01-01</th>\n",
              "      <td>20967.0</td>\n",
              "    </tr>\n",
              "  </tbody>\n",
              "</table>\n",
              "</div>\n",
              "      <button class=\"colab-df-convert\" onclick=\"convertToInteractive('df-235429ca-9f28-4b4f-a26b-71dd97375af4')\"\n",
              "              title=\"Convert this dataframe to an interactive table.\"\n",
              "              style=\"display:none;\">\n",
              "        \n",
              "  <svg xmlns=\"http://www.w3.org/2000/svg\" height=\"24px\"viewBox=\"0 0 24 24\"\n",
              "       width=\"24px\">\n",
              "    <path d=\"M0 0h24v24H0V0z\" fill=\"none\"/>\n",
              "    <path d=\"M18.56 5.44l.94 2.06.94-2.06 2.06-.94-2.06-.94-.94-2.06-.94 2.06-2.06.94zm-11 1L8.5 8.5l.94-2.06 2.06-.94-2.06-.94L8.5 2.5l-.94 2.06-2.06.94zm10 10l.94 2.06.94-2.06 2.06-.94-2.06-.94-.94-2.06-.94 2.06-2.06.94z\"/><path d=\"M17.41 7.96l-1.37-1.37c-.4-.4-.92-.59-1.43-.59-.52 0-1.04.2-1.43.59L10.3 9.45l-7.72 7.72c-.78.78-.78 2.05 0 2.83L4 21.41c.39.39.9.59 1.41.59.51 0 1.02-.2 1.41-.59l7.78-7.78 2.81-2.81c.8-.78.8-2.07 0-2.86zM5.41 20L4 18.59l7.72-7.72 1.47 1.35L5.41 20z\"/>\n",
              "  </svg>\n",
              "      </button>\n",
              "      \n",
              "  <style>\n",
              "    .colab-df-container {\n",
              "      display:flex;\n",
              "      flex-wrap:wrap;\n",
              "      gap: 12px;\n",
              "    }\n",
              "\n",
              "    .colab-df-convert {\n",
              "      background-color: #E8F0FE;\n",
              "      border: none;\n",
              "      border-radius: 50%;\n",
              "      cursor: pointer;\n",
              "      display: none;\n",
              "      fill: #1967D2;\n",
              "      height: 32px;\n",
              "      padding: 0 0 0 0;\n",
              "      width: 32px;\n",
              "    }\n",
              "\n",
              "    .colab-df-convert:hover {\n",
              "      background-color: #E2EBFA;\n",
              "      box-shadow: 0px 1px 2px rgba(60, 64, 67, 0.3), 0px 1px 3px 1px rgba(60, 64, 67, 0.15);\n",
              "      fill: #174EA6;\n",
              "    }\n",
              "\n",
              "    [theme=dark] .colab-df-convert {\n",
              "      background-color: #3B4455;\n",
              "      fill: #D2E3FC;\n",
              "    }\n",
              "\n",
              "    [theme=dark] .colab-df-convert:hover {\n",
              "      background-color: #434B5C;\n",
              "      box-shadow: 0px 1px 3px 1px rgba(0, 0, 0, 0.15);\n",
              "      filter: drop-shadow(0px 1px 2px rgba(0, 0, 0, 0.3));\n",
              "      fill: #FFFFFF;\n",
              "    }\n",
              "  </style>\n",
              "\n",
              "      <script>\n",
              "        const buttonEl =\n",
              "          document.querySelector('#df-235429ca-9f28-4b4f-a26b-71dd97375af4 button.colab-df-convert');\n",
              "        buttonEl.style.display =\n",
              "          google.colab.kernel.accessAllowed ? 'block' : 'none';\n",
              "\n",
              "        async function convertToInteractive(key) {\n",
              "          const element = document.querySelector('#df-235429ca-9f28-4b4f-a26b-71dd97375af4');\n",
              "          const dataTable =\n",
              "            await google.colab.kernel.invokeFunction('convertToInteractive',\n",
              "                                                     [key], {});\n",
              "          if (!dataTable) return;\n",
              "\n",
              "          const docLinkHtml = 'Like what you see? Visit the ' +\n",
              "            '<a target=\"_blank\" href=https://colab.research.google.com/notebooks/data_table.ipynb>data table notebook</a>'\n",
              "            + ' to learn more about interactive tables.';\n",
              "          element.innerHTML = '';\n",
              "          dataTable['output_type'] = 'display_data';\n",
              "          await google.colab.output.renderOutput(dataTable, element);\n",
              "          const docLink = document.createElement('div');\n",
              "          docLink.innerHTML = docLinkHtml;\n",
              "          element.appendChild(docLink);\n",
              "        }\n",
              "      </script>\n",
              "    </div>\n",
              "  </div>\n",
              "  "
            ],
            "text/plain": [
              "            total_crimes\n",
              "year                    \n",
              "2002-01-01       38223.0\n",
              "2003-01-01         601.0\n",
              "2004-01-01       24237.0\n",
              "2005-01-01        -295.0\n",
              "2006-01-01       20967.0"
            ]
          },
          "metadata": {},
          "execution_count": 10
        }
      ],
      "source": [
        "indexedDataset_diff=indexedDataset.diff(periods=1)\n",
        "indexedDataset_diff=indexedDataset_diff[1:]\n",
        "indexedDataset_diff.head()\n"
      ]
    },
    {
      "cell_type": "code",
      "execution_count": null,
      "metadata": {
        "id": "8E9ohiuAQMxX",
        "colab": {
          "base_uri": "https://localhost:8080/",
          "height": 238
        },
        "outputId": "59192f53-d6d0-4757-bdc1-0e2567fdbedf"
      },
      "outputs": [
        {
          "output_type": "execute_result",
          "data": {
            "text/html": [
              "\n",
              "  <div id=\"df-a0898f3a-b639-40ab-911c-175a7cfed1f6\">\n",
              "    <div class=\"colab-df-container\">\n",
              "      <div>\n",
              "<style scoped>\n",
              "    .dataframe tbody tr th:only-of-type {\n",
              "        vertical-align: middle;\n",
              "    }\n",
              "\n",
              "    .dataframe tbody tr th {\n",
              "        vertical-align: top;\n",
              "    }\n",
              "\n",
              "    .dataframe thead th {\n",
              "        text-align: right;\n",
              "    }\n",
              "</style>\n",
              "<table border=\"1\" class=\"dataframe\">\n",
              "  <thead>\n",
              "    <tr style=\"text-align: right;\">\n",
              "      <th></th>\n",
              "      <th>total_crimes</th>\n",
              "    </tr>\n",
              "    <tr>\n",
              "      <th>year</th>\n",
              "      <th></th>\n",
              "    </tr>\n",
              "  </thead>\n",
              "  <tbody>\n",
              "    <tr>\n",
              "      <th>2003-01-01</th>\n",
              "      <td>-37622.0</td>\n",
              "    </tr>\n",
              "    <tr>\n",
              "      <th>2004-01-01</th>\n",
              "      <td>23636.0</td>\n",
              "    </tr>\n",
              "    <tr>\n",
              "      <th>2005-01-01</th>\n",
              "      <td>-24532.0</td>\n",
              "    </tr>\n",
              "    <tr>\n",
              "      <th>2006-01-01</th>\n",
              "      <td>21262.0</td>\n",
              "    </tr>\n",
              "    <tr>\n",
              "      <th>2007-01-01</th>\n",
              "      <td>3615.0</td>\n",
              "    </tr>\n",
              "  </tbody>\n",
              "</table>\n",
              "</div>\n",
              "      <button class=\"colab-df-convert\" onclick=\"convertToInteractive('df-a0898f3a-b639-40ab-911c-175a7cfed1f6')\"\n",
              "              title=\"Convert this dataframe to an interactive table.\"\n",
              "              style=\"display:none;\">\n",
              "        \n",
              "  <svg xmlns=\"http://www.w3.org/2000/svg\" height=\"24px\"viewBox=\"0 0 24 24\"\n",
              "       width=\"24px\">\n",
              "    <path d=\"M0 0h24v24H0V0z\" fill=\"none\"/>\n",
              "    <path d=\"M18.56 5.44l.94 2.06.94-2.06 2.06-.94-2.06-.94-.94-2.06-.94 2.06-2.06.94zm-11 1L8.5 8.5l.94-2.06 2.06-.94-2.06-.94L8.5 2.5l-.94 2.06-2.06.94zm10 10l.94 2.06.94-2.06 2.06-.94-2.06-.94-.94-2.06-.94 2.06-2.06.94z\"/><path d=\"M17.41 7.96l-1.37-1.37c-.4-.4-.92-.59-1.43-.59-.52 0-1.04.2-1.43.59L10.3 9.45l-7.72 7.72c-.78.78-.78 2.05 0 2.83L4 21.41c.39.39.9.59 1.41.59.51 0 1.02-.2 1.41-.59l7.78-7.78 2.81-2.81c.8-.78.8-2.07 0-2.86zM5.41 20L4 18.59l7.72-7.72 1.47 1.35L5.41 20z\"/>\n",
              "  </svg>\n",
              "      </button>\n",
              "      \n",
              "  <style>\n",
              "    .colab-df-container {\n",
              "      display:flex;\n",
              "      flex-wrap:wrap;\n",
              "      gap: 12px;\n",
              "    }\n",
              "\n",
              "    .colab-df-convert {\n",
              "      background-color: #E8F0FE;\n",
              "      border: none;\n",
              "      border-radius: 50%;\n",
              "      cursor: pointer;\n",
              "      display: none;\n",
              "      fill: #1967D2;\n",
              "      height: 32px;\n",
              "      padding: 0 0 0 0;\n",
              "      width: 32px;\n",
              "    }\n",
              "\n",
              "    .colab-df-convert:hover {\n",
              "      background-color: #E2EBFA;\n",
              "      box-shadow: 0px 1px 2px rgba(60, 64, 67, 0.3), 0px 1px 3px 1px rgba(60, 64, 67, 0.15);\n",
              "      fill: #174EA6;\n",
              "    }\n",
              "\n",
              "    [theme=dark] .colab-df-convert {\n",
              "      background-color: #3B4455;\n",
              "      fill: #D2E3FC;\n",
              "    }\n",
              "\n",
              "    [theme=dark] .colab-df-convert:hover {\n",
              "      background-color: #434B5C;\n",
              "      box-shadow: 0px 1px 3px 1px rgba(0, 0, 0, 0.15);\n",
              "      filter: drop-shadow(0px 1px 2px rgba(0, 0, 0, 0.3));\n",
              "      fill: #FFFFFF;\n",
              "    }\n",
              "  </style>\n",
              "\n",
              "      <script>\n",
              "        const buttonEl =\n",
              "          document.querySelector('#df-a0898f3a-b639-40ab-911c-175a7cfed1f6 button.colab-df-convert');\n",
              "        buttonEl.style.display =\n",
              "          google.colab.kernel.accessAllowed ? 'block' : 'none';\n",
              "\n",
              "        async function convertToInteractive(key) {\n",
              "          const element = document.querySelector('#df-a0898f3a-b639-40ab-911c-175a7cfed1f6');\n",
              "          const dataTable =\n",
              "            await google.colab.kernel.invokeFunction('convertToInteractive',\n",
              "                                                     [key], {});\n",
              "          if (!dataTable) return;\n",
              "\n",
              "          const docLinkHtml = 'Like what you see? Visit the ' +\n",
              "            '<a target=\"_blank\" href=https://colab.research.google.com/notebooks/data_table.ipynb>data table notebook</a>'\n",
              "            + ' to learn more about interactive tables.';\n",
              "          element.innerHTML = '';\n",
              "          dataTable['output_type'] = 'display_data';\n",
              "          await google.colab.output.renderOutput(dataTable, element);\n",
              "          const docLink = document.createElement('div');\n",
              "          docLink.innerHTML = docLinkHtml;\n",
              "          element.appendChild(docLink);\n",
              "        }\n",
              "      </script>\n",
              "    </div>\n",
              "  </div>\n",
              "  "
            ],
            "text/plain": [
              "            total_crimes\n",
              "year                    \n",
              "2003-01-01      -37622.0\n",
              "2004-01-01       23636.0\n",
              "2005-01-01      -24532.0\n",
              "2006-01-01       21262.0\n",
              "2007-01-01        3615.0"
            ]
          },
          "metadata": {},
          "execution_count": 11
        }
      ],
      "source": [
        "indexedDataset_diff2=indexedDataset_diff.diff(periods=1)\n",
        "indexedDataset_diff2=indexedDataset_diff2[1:]\n",
        "indexedDataset_diff2.head()\n"
      ]
    },
    {
      "cell_type": "code",
      "execution_count": null,
      "metadata": {
        "id": "V71U5XPBQUnz"
      },
      "outputs": [],
      "source": []
    },
    {
      "cell_type": "code",
      "execution_count": null,
      "metadata": {
        "id": "F8nWY1r_QsPQ",
        "colab": {
          "base_uri": "https://localhost:8080/",
          "height": 705
        },
        "outputId": "8c0eefed-808b-440b-8256-a909b2557f4c"
      },
      "outputs": [
        {
          "output_type": "execute_result",
          "data": {
            "text/html": [
              "\n",
              "  <div id=\"df-8ec23acf-d65d-4d29-a04f-8133a236d6e4\">\n",
              "    <div class=\"colab-df-container\">\n",
              "      <div>\n",
              "<style scoped>\n",
              "    .dataframe tbody tr th:only-of-type {\n",
              "        vertical-align: middle;\n",
              "    }\n",
              "\n",
              "    .dataframe tbody tr th {\n",
              "        vertical-align: top;\n",
              "    }\n",
              "\n",
              "    .dataframe thead th {\n",
              "        text-align: right;\n",
              "    }\n",
              "</style>\n",
              "<table border=\"1\" class=\"dataframe\">\n",
              "  <thead>\n",
              "    <tr style=\"text-align: right;\">\n",
              "      <th></th>\n",
              "      <th>total_crimes</th>\n",
              "    </tr>\n",
              "    <tr>\n",
              "      <th>year</th>\n",
              "      <th></th>\n",
              "    </tr>\n",
              "  </thead>\n",
              "  <tbody>\n",
              "    <tr>\n",
              "      <th>2001-01-01</th>\n",
              "      <td>NaN</td>\n",
              "    </tr>\n",
              "    <tr>\n",
              "      <th>2002-01-01</th>\n",
              "      <td>NaN</td>\n",
              "    </tr>\n",
              "    <tr>\n",
              "      <th>2003-01-01</th>\n",
              "      <td>NaN</td>\n",
              "    </tr>\n",
              "    <tr>\n",
              "      <th>2004-01-01</th>\n",
              "      <td>NaN</td>\n",
              "    </tr>\n",
              "    <tr>\n",
              "      <th>2005-01-01</th>\n",
              "      <td>0.086225</td>\n",
              "    </tr>\n",
              "    <tr>\n",
              "      <th>2006-01-01</th>\n",
              "      <td>0.093243</td>\n",
              "    </tr>\n",
              "    <tr>\n",
              "      <th>2007-01-01</th>\n",
              "      <td>0.123130</td>\n",
              "    </tr>\n",
              "    <tr>\n",
              "      <th>2008-01-01</th>\n",
              "      <td>0.167003</td>\n",
              "    </tr>\n",
              "    <tr>\n",
              "      <th>2009-01-01</th>\n",
              "      <td>0.149076</td>\n",
              "    </tr>\n",
              "    <tr>\n",
              "      <th>2010-01-01</th>\n",
              "      <td>0.129151</td>\n",
              "    </tr>\n",
              "    <tr>\n",
              "      <th>2011-01-01</th>\n",
              "      <td>0.124390</td>\n",
              "    </tr>\n",
              "    <tr>\n",
              "      <th>2012-01-01</th>\n",
              "      <td>0.115960</td>\n",
              "    </tr>\n",
              "  </tbody>\n",
              "</table>\n",
              "</div>\n",
              "      <button class=\"colab-df-convert\" onclick=\"convertToInteractive('df-8ec23acf-d65d-4d29-a04f-8133a236d6e4')\"\n",
              "              title=\"Convert this dataframe to an interactive table.\"\n",
              "              style=\"display:none;\">\n",
              "        \n",
              "  <svg xmlns=\"http://www.w3.org/2000/svg\" height=\"24px\"viewBox=\"0 0 24 24\"\n",
              "       width=\"24px\">\n",
              "    <path d=\"M0 0h24v24H0V0z\" fill=\"none\"/>\n",
              "    <path d=\"M18.56 5.44l.94 2.06.94-2.06 2.06-.94-2.06-.94-.94-2.06-.94 2.06-2.06.94zm-11 1L8.5 8.5l.94-2.06 2.06-.94-2.06-.94L8.5 2.5l-.94 2.06-2.06.94zm10 10l.94 2.06.94-2.06 2.06-.94-2.06-.94-.94-2.06-.94 2.06-2.06.94z\"/><path d=\"M17.41 7.96l-1.37-1.37c-.4-.4-.92-.59-1.43-.59-.52 0-1.04.2-1.43.59L10.3 9.45l-7.72 7.72c-.78.78-.78 2.05 0 2.83L4 21.41c.39.39.9.59 1.41.59.51 0 1.02-.2 1.41-.59l7.78-7.78 2.81-2.81c.8-.78.8-2.07 0-2.86zM5.41 20L4 18.59l7.72-7.72 1.47 1.35L5.41 20z\"/>\n",
              "  </svg>\n",
              "      </button>\n",
              "      \n",
              "  <style>\n",
              "    .colab-df-container {\n",
              "      display:flex;\n",
              "      flex-wrap:wrap;\n",
              "      gap: 12px;\n",
              "    }\n",
              "\n",
              "    .colab-df-convert {\n",
              "      background-color: #E8F0FE;\n",
              "      border: none;\n",
              "      border-radius: 50%;\n",
              "      cursor: pointer;\n",
              "      display: none;\n",
              "      fill: #1967D2;\n",
              "      height: 32px;\n",
              "      padding: 0 0 0 0;\n",
              "      width: 32px;\n",
              "    }\n",
              "\n",
              "    .colab-df-convert:hover {\n",
              "      background-color: #E2EBFA;\n",
              "      box-shadow: 0px 1px 2px rgba(60, 64, 67, 0.3), 0px 1px 3px 1px rgba(60, 64, 67, 0.15);\n",
              "      fill: #174EA6;\n",
              "    }\n",
              "\n",
              "    [theme=dark] .colab-df-convert {\n",
              "      background-color: #3B4455;\n",
              "      fill: #D2E3FC;\n",
              "    }\n",
              "\n",
              "    [theme=dark] .colab-df-convert:hover {\n",
              "      background-color: #434B5C;\n",
              "      box-shadow: 0px 1px 3px 1px rgba(0, 0, 0, 0.15);\n",
              "      filter: drop-shadow(0px 1px 2px rgba(0, 0, 0, 0.3));\n",
              "      fill: #FFFFFF;\n",
              "    }\n",
              "  </style>\n",
              "\n",
              "      <script>\n",
              "        const buttonEl =\n",
              "          document.querySelector('#df-8ec23acf-d65d-4d29-a04f-8133a236d6e4 button.colab-df-convert');\n",
              "        buttonEl.style.display =\n",
              "          google.colab.kernel.accessAllowed ? 'block' : 'none';\n",
              "\n",
              "        async function convertToInteractive(key) {\n",
              "          const element = document.querySelector('#df-8ec23acf-d65d-4d29-a04f-8133a236d6e4');\n",
              "          const dataTable =\n",
              "            await google.colab.kernel.invokeFunction('convertToInteractive',\n",
              "                                                     [key], {});\n",
              "          if (!dataTable) return;\n",
              "\n",
              "          const docLinkHtml = 'Like what you see? Visit the ' +\n",
              "            '<a target=\"_blank\" href=https://colab.research.google.com/notebooks/data_table.ipynb>data table notebook</a>'\n",
              "            + ' to learn more about interactive tables.';\n",
              "          element.innerHTML = '';\n",
              "          dataTable['output_type'] = 'display_data';\n",
              "          await google.colab.output.renderOutput(dataTable, element);\n",
              "          const docLink = document.createElement('div');\n",
              "          docLink.innerHTML = docLinkHtml;\n",
              "          element.appendChild(docLink);\n",
              "        }\n",
              "      </script>\n",
              "    </div>\n",
              "  </div>\n",
              "  "
            ],
            "text/plain": [
              "            total_crimes\n",
              "year                    \n",
              "2001-01-01           NaN\n",
              "2002-01-01           NaN\n",
              "2003-01-01           NaN\n",
              "2004-01-01           NaN\n",
              "2005-01-01      0.086225\n",
              "2006-01-01      0.093243\n",
              "2007-01-01      0.123130\n",
              "2008-01-01      0.167003\n",
              "2009-01-01      0.149076\n",
              "2010-01-01      0.129151\n",
              "2011-01-01      0.124390\n",
              "2012-01-01      0.115960"
            ]
          },
          "metadata": {},
          "execution_count": 12
        },
        {
          "output_type": "display_data",
          "data": {
            "image/png": "[encoded data removed]",
            "text/plain": [
              "<Figure size 432x288 with 1 Axes>"
            ]
          },
          "metadata": {
            "needs_background": "light"
          }
        }
      ],
      "source": [
        "#estimating trend\n",
        "indexedDataset_logscale=np.log(indexedDataset)\n",
        "plt.plot(indexedDataset_logscale)\n",
        "movingaverage=indexedDataset_logscale.rolling(window=5).mean()\n",
        "movingstd=indexedDataset_logscale.rolling(window=5).std()\n",
        "plt.plot(indexedDataset_logscale)\n",
        "plt.plot(movingaverage,color='blue')\n",
        "datasetlogscaleminusmovingaverage=indexedDataset_logscale-movingaverage\n",
        "datasetlogscaleminusmovingaverage.head(12)"
      ]
    },
    {
      "cell_type": "code",
      "execution_count": null,
      "metadata": {
        "id": "fZlabd1PQ7Kf",
        "colab": {
          "base_uri": "https://localhost:8080/",
          "height": 394
        },
        "outputId": "08e042e4-39e3-4be9-870f-52b7112d9763"
      },
      "outputs": [
        {
          "output_type": "execute_result",
          "data": {
            "text/html": [
              "\n",
              "  <div id=\"df-3333d377-7419-4e88-bf27-c444714ab49c\">\n",
              "    <div class=\"colab-df-container\">\n",
              "      <div>\n",
              "<style scoped>\n",
              "    .dataframe tbody tr th:only-of-type {\n",
              "        vertical-align: middle;\n",
              "    }\n",
              "\n",
              "    .dataframe tbody tr th {\n",
              "        vertical-align: top;\n",
              "    }\n",
              "\n",
              "    .dataframe thead th {\n",
              "        text-align: right;\n",
              "    }\n",
              "</style>\n",
              "<table border=\"1\" class=\"dataframe\">\n",
              "  <thead>\n",
              "    <tr style=\"text-align: right;\">\n",
              "      <th></th>\n",
              "      <th>total_crimes</th>\n",
              "    </tr>\n",
              "    <tr>\n",
              "      <th>year</th>\n",
              "      <th></th>\n",
              "    </tr>\n",
              "  </thead>\n",
              "  <tbody>\n",
              "    <tr>\n",
              "      <th>2005-01-01</th>\n",
              "      <td>0.086225</td>\n",
              "    </tr>\n",
              "    <tr>\n",
              "      <th>2006-01-01</th>\n",
              "      <td>0.093243</td>\n",
              "    </tr>\n",
              "    <tr>\n",
              "      <th>2007-01-01</th>\n",
              "      <td>0.123130</td>\n",
              "    </tr>\n",
              "    <tr>\n",
              "      <th>2008-01-01</th>\n",
              "      <td>0.167003</td>\n",
              "    </tr>\n",
              "    <tr>\n",
              "      <th>2009-01-01</th>\n",
              "      <td>0.149076</td>\n",
              "    </tr>\n",
              "    <tr>\n",
              "      <th>2010-01-01</th>\n",
              "      <td>0.129151</td>\n",
              "    </tr>\n",
              "    <tr>\n",
              "      <th>2011-01-01</th>\n",
              "      <td>0.124390</td>\n",
              "    </tr>\n",
              "    <tr>\n",
              "      <th>2012-01-01</th>\n",
              "      <td>0.115960</td>\n",
              "    </tr>\n",
              "    <tr>\n",
              "      <th>2013-01-01</th>\n",
              "      <td>0.255701</td>\n",
              "    </tr>\n",
              "    <tr>\n",
              "      <th>2014-01-01</th>\n",
              "      <td>-1.601142</td>\n",
              "    </tr>\n",
              "  </tbody>\n",
              "</table>\n",
              "</div>\n",
              "      <button class=\"colab-df-convert\" onclick=\"convertToInteractive('df-3333d377-7419-4e88-bf27-c444714ab49c')\"\n",
              "              title=\"Convert this dataframe to an interactive table.\"\n",
              "              style=\"display:none;\">\n",
              "        \n",
              "  <svg xmlns=\"http://www.w3.org/2000/svg\" height=\"24px\"viewBox=\"0 0 24 24\"\n",
              "       width=\"24px\">\n",
              "    <path d=\"M0 0h24v24H0V0z\" fill=\"none\"/>\n",
              "    <path d=\"M18.56 5.44l.94 2.06.94-2.06 2.06-.94-2.06-.94-.94-2.06-.94 2.06-2.06.94zm-11 1L8.5 8.5l.94-2.06 2.06-.94-2.06-.94L8.5 2.5l-.94 2.06-2.06.94zm10 10l.94 2.06.94-2.06 2.06-.94-2.06-.94-.94-2.06-.94 2.06-2.06.94z\"/><path d=\"M17.41 7.96l-1.37-1.37c-.4-.4-.92-.59-1.43-.59-.52 0-1.04.2-1.43.59L10.3 9.45l-7.72 7.72c-.78.78-.78 2.05 0 2.83L4 21.41c.39.39.9.59 1.41.59.51 0 1.02-.2 1.41-.59l7.78-7.78 2.81-2.81c.8-.78.8-2.07 0-2.86zM5.41 20L4 18.59l7.72-7.72 1.47 1.35L5.41 20z\"/>\n",
              "  </svg>\n",
              "      </button>\n",
              "      \n",
              "  <style>\n",
              "    .colab-df-container {\n",
              "      display:flex;\n",
              "      flex-wrap:wrap;\n",
              "      gap: 12px;\n",
              "    }\n",
              "\n",
              "    .colab-df-convert {\n",
              "      background-color: #E8F0FE;\n",
              "      border: none;\n",
              "      border-radius: 50%;\n",
              "      cursor: pointer;\n",
              "      display: none;\n",
              "      fill: #1967D2;\n",
              "      height: 32px;\n",
              "      padding: 0 0 0 0;\n",
              "      width: 32px;\n",
              "    }\n",
              "\n",
              "    .colab-df-convert:hover {\n",
              "      background-color: #E2EBFA;\n",
              "      box-shadow: 0px 1px 2px rgba(60, 64, 67, 0.3), 0px 1px 3px 1px rgba(60, 64, 67, 0.15);\n",
              "      fill: #174EA6;\n",
              "    }\n",
              "\n",
              "    [theme=dark] .colab-df-convert {\n",
              "      background-color: #3B4455;\n",
              "      fill: #D2E3FC;\n",
              "    }\n",
              "\n",
              "    [theme=dark] .colab-df-convert:hover {\n",
              "      background-color: #434B5C;\n",
              "      box-shadow: 0px 1px 3px 1px rgba(0, 0, 0, 0.15);\n",
              "      filter: drop-shadow(0px 1px 2px rgba(0, 0, 0, 0.3));\n",
              "      fill: #FFFFFF;\n",
              "    }\n",
              "  </style>\n",
              "\n",
              "      <script>\n",
              "        const buttonEl =\n",
              "          document.querySelector('#df-3333d377-7419-4e88-bf27-c444714ab49c button.colab-df-convert');\n",
              "        buttonEl.style.display =\n",
              "          google.colab.kernel.accessAllowed ? 'block' : 'none';\n",
              "\n",
              "        async function convertToInteractive(key) {\n",
              "          const element = document.querySelector('#df-3333d377-7419-4e88-bf27-c444714ab49c');\n",
              "          const dataTable =\n",
              "            await google.colab.kernel.invokeFunction('convertToInteractive',\n",
              "                                                     [key], {});\n",
              "          if (!dataTable) return;\n",
              "\n",
              "          const docLinkHtml = 'Like what you see? Visit the ' +\n",
              "            '<a target=\"_blank\" href=https://colab.research.google.com/notebooks/data_table.ipynb>data table notebook</a>'\n",
              "            + ' to learn more about interactive tables.';\n",
              "          element.innerHTML = '';\n",
              "          dataTable['output_type'] = 'display_data';\n",
              "          await google.colab.output.renderOutput(dataTable, element);\n",
              "          const docLink = document.createElement('div');\n",
              "          docLink.innerHTML = docLinkHtml;\n",
              "          element.appendChild(docLink);\n",
              "        }\n",
              "      </script>\n",
              "    </div>\n",
              "  </div>\n",
              "  "
            ],
            "text/plain": [
              "            total_crimes\n",
              "year                    \n",
              "2005-01-01      0.086225\n",
              "2006-01-01      0.093243\n",
              "2007-01-01      0.123130\n",
              "2008-01-01      0.167003\n",
              "2009-01-01      0.149076\n",
              "2010-01-01      0.129151\n",
              "2011-01-01      0.124390\n",
              "2012-01-01      0.115960\n",
              "2013-01-01      0.255701\n",
              "2014-01-01     -1.601142"
            ]
          },
          "metadata": {},
          "execution_count": 13
        }
      ],
      "source": [
        "#remove Nan values \n",
        "datasetlogscaleminusmovingaverage.dropna(inplace=True)\n",
        "datasetlogscaleminusmovingaverage.head(10)"
      ]
    },
    {
      "cell_type": "code",
      "execution_count": null,
      "metadata": {
        "id": "x42lbMfoQ-Na",
        "colab": {
          "base_uri": "https://localhost:8080/",
          "height": 281
        },
        "outputId": "2a628cc8-eb1b-4820-b31d-5ff047c226bf"
      },
      "outputs": [
        {
          "output_type": "display_data",
          "data": {
            "image/png": "[encoded data removed]",
            "text/plain": [
              "<Figure size 432x288 with 1 Axes>"
            ]
          },
          "metadata": {
            "needs_background": "light"
          }
        }
      ],
      "source": [
        "\n",
        "\n",
        "from statsmodels.tsa.stattools import adfuller\n",
        "def test_stationarity(indexedDataset_logscale):  \n",
        "  #determining rolling statistics\n",
        "  movingaverage=indexedDataset_logscale.rolling(window=5).mean()\n",
        "  movingstd=indexedDataset_logscale.rolling(window=5).std()\n",
        "  #plot rolling ststistics:\n",
        "  orig=plt.plot(indexedDataset_logscale['total_crimes'],color='blue',label='original')\n",
        "  mean=plt.plot(movingaverage,color='red',label='rolling mean')\n",
        "  std=plt.plot(movingstd,color='black',label='rollingstd')\n",
        "  plt.legend(loc='best')\n",
        "  plt.title('rolling mean&standard deviation')\n",
        "  plt.show(block=False)\n",
        "test_stationarity(datasetlogscaleminusmovingaverage)"
      ]
    },
    {
      "cell_type": "code",
      "execution_count": null,
      "metadata": {
        "id": "y-nW8hw3RFS5",
        "colab": {
          "base_uri": "https://localhost:8080/",
          "height": 282
        },
        "outputId": "383cb523-bb2c-4b1d-cb8d-505d724403d3"
      },
      "outputs": [
        {
          "output_type": "execute_result",
          "data": {
            "text/plain": [
              "[<matplotlib.lines.Line2D at 0x7f229b85a410>]"
            ]
          },
          "metadata": {},
          "execution_count": 16
        },
        {
          "output_type": "display_data",
          "data": {
            "image/png": "[encoded data removed]",
            "text/plain": [
              "<Figure size 432x288 with 1 Axes>"
            ]
          },
          "metadata": {
            "needs_background": "light"
          }
        }
      ],
      "source": [
        "exponential_decayweighted_average=indexedDataset_logscale.ewm(halflife=12,min_periods=0,adjust=True).mean()\n",
        "plt.plot(indexedDataset_logscale)\n",
        "plt.plot(exponential_decayweighted_average,color='red')"
      ]
    },
    {
      "cell_type": "code",
      "execution_count": null,
      "metadata": {
        "id": "swWqGiq6RMOD",
        "colab": {
          "base_uri": "https://localhost:8080/",
          "height": 281
        },
        "outputId": "0555d5eb-b44e-46ad-8aaf-324eac7d6f5a"
      },
      "outputs": [
        {
          "output_type": "display_data",
          "data": {
            "image/png": "[encoded data removed]",
            "text/plain": [
              "<Figure size 432x288 with 1 Axes>"
            ]
          },
          "metadata": {
            "needs_background": "light"
          }
        }
      ],
      "source": [
        "datasetlogscaleminusmovingexponential_decayweighted_average=indexedDataset_logscale-exponential_decayweighted_average\n",
        "test_stationarity(datasetlogscaleminusmovingexponential_decayweighted_average)"
      ]
    },
    {
      "cell_type": "code",
      "execution_count": null,
      "metadata": {
        "id": "oIIqnZYFRPCu",
        "colab": {
          "base_uri": "https://localhost:8080/",
          "height": 282
        },
        "outputId": "bd0c19da-e714-4e44-b38c-e317d6ffa8b3"
      },
      "outputs": [
        {
          "output_type": "execute_result",
          "data": {
            "text/plain": [
              "[<matplotlib.lines.Line2D at 0x7f229b8f6150>]"
            ]
          },
          "metadata": {},
          "execution_count": 18
        },
        {
          "output_type": "display_data",
          "data": {
            "image/png": "[encoded data removed]",
            "text/plain": [
              "<Figure size 432x288 with 1 Axes>"
            ]
          },
          "metadata": {
            "needs_background": "light"
          }
        }
      ],
      "source": [
        "datasetlogdiffshifting=indexedDataset_logscale-indexedDataset_logscale.shift()\n",
        "plt.plot(datasetlogdiffshifting)"
      ]
    },
    {
      "cell_type": "code",
      "execution_count": null,
      "metadata": {
        "id": "RIaRVJf1RRa2",
        "colab": {
          "base_uri": "https://localhost:8080/",
          "height": 281
        },
        "outputId": "17de28e9-8494-4eb3-d9a8-66fbdb4ca7e1"
      },
      "outputs": [
        {
          "output_type": "display_data",
          "data": {
            "image/png": "[encoded data removed]",
            "text/plain": [
              "<Figure size 432x288 with 1 Axes>"
            ]
          },
          "metadata": {
            "needs_background": "light"
          }
        }
      ],
      "source": [
        "datasetlogdiffshifting.dropna(inplace=True)\n",
        "test_stationarity(datasetlogdiffshifting)"
      ]
    },
    {
      "cell_type": "code",
      "execution_count": null,
      "metadata": {
        "id": "Bo1dz8vaRWGf",
        "colab": {
          "base_uri": "https://localhost:8080/",
          "height": 247
        },
        "outputId": "f929a549-6c8e-4bd4-a487-81fef77c3e0a"
      },
      "outputs": [
        {
          "output_type": "display_data",
          "data": {
            "image/png": "[encoded data removed]",
            "text/plain": [
              "<Figure size 432x288 with 3 Axes>"
            ]
          },
          "metadata": {
            "needs_background": "light"
          }
        }
      ],
      "source": [
        "from statsmodels.tsa.seasonal import seasonal_decompose\n",
        "decomposition=seasonal_decompose(indexedDataset_logscale)\n",
        "trend=decomposition.trend\n",
        "seasonal=decomposition.seasonal\n",
        "residual=decomposition.resid\n",
        "plt.subplot(411)\n",
        "plt.plot(indexedDataset_logscale,label='original')\n",
        "plt.legend(loc='best')\n",
        "plt.subplot(412)\n",
        "plt.plot(trend,label='Trend')\n",
        "plt.legend(loc='best')\n",
        "plt.subplot(413)\n",
        "plt.plot(seasonal,label='seasonality')\n",
        "plt.legend(loc='best')\n",
        "plt.tight_layout()\n",
        "decomposedlogdata=residual\n",
        "decomposedlogdata.dropna(inplace=True)\n",
        "test_stationarity(decomposedlogdata)\n"
      ]
    },
    {
      "cell_type": "code",
      "execution_count": null,
      "metadata": {
        "id": "LnO45y1rRZ_h",
        "colab": {
          "base_uri": "https://localhost:8080/"
        },
        "outputId": "09de8147-37f2-4c12-d5db-c39d8fbeb7d3"
      },
      "outputs": [
        {
          "output_type": "stream",
          "name": "stderr",
          "text": [
            "/usr/local/lib/python3.7/dist-packages/statsmodels/tsa/stattools.py:541: FutureWarning: fft=True will become the default in a future version of statsmodels. To suppress this warning, explicitly set fft=False.\n",
            "  warnings.warn(msg, FutureWarning)\n",
            "/usr/local/lib/python3.7/dist-packages/statsmodels/regression/linear_model.py:1358: RuntimeWarning: invalid value encountered in sqrt\n",
            "  return rho, np.sqrt(sigmasq)\n",
            "/usr/local/lib/python3.7/dist-packages/statsmodels/regression/linear_model.py:1350: RuntimeWarning: invalid value encountered in double_scalars\n",
            "  r[k] = (X[0:-k] * X[k:]).sum() / denom(k)\n"
          ]
        }
      ],
      "source": [
        "#ACF and PACF plots\n",
        "from statsmodels.tsa.stattools import acf,pacf\n",
        "lag_acf=acf(datasetlogdiffshifting,nlags=20)\n",
        "lag_pacf=pacf(datasetlogdiffshifting,nlags=20)\n"
      ]
    },
    {
      "cell_type": "code",
      "execution_count": null,
      "metadata": {
        "id": "LA_D3GonRcZS",
        "colab": {
          "base_uri": "https://localhost:8080/",
          "height": 298
        },
        "outputId": "b255177b-2f10-4128-d974-c91e2ebf7581"
      },
      "outputs": [
        {
          "output_type": "execute_result",
          "data": {
            "text/plain": [
              "Text(0.5, 1.0, 'autocorrelation function')"
            ]
          },
          "metadata": {},
          "execution_count": 22
        },
        {
          "output_type": "display_data",
          "data": {
            "image/png": "[encoded data removed]",
            "text/plain": [
              "<Figure size 432x288 with 1 Axes>"
            ]
          },
          "metadata": {
            "needs_background": "light"
          }
        }
      ],
      "source": [
        "#acf plot\n",
        "plt.subplot(121)\n",
        "plt.plot(lag_acf)\n",
        "plt.axhline(y=0,linestyle='--',color='gray')\n",
        "plt.axhline(y=1.96/np.sqrt(len(datasetlogdiffshifting)),linestyle='--',color='gray')\n",
        "plt.axhline(y=1.96/np.sqrt(len(datasetlogdiffshifting)),linestyle='--',color='gray')\n",
        "plt.title('autocorrelation function')"
      ]
    },
    {
      "cell_type": "code",
      "execution_count": null,
      "metadata": {
        "id": "jo8-NjZbRe6X",
        "colab": {
          "base_uri": "https://localhost:8080/",
          "height": 1000
        },
        "outputId": "3b74d41c-9ead-4882-9775-a456c2d838ee"
      },
      "outputs": [
        {
          "output_type": "stream",
          "name": "stderr",
          "text": [
            "/usr/local/lib/python3.7/dist-packages/statsmodels/regression/linear_model.py:1358: RuntimeWarning: invalid value encountered in sqrt\n",
            "  return rho, np.sqrt(sigmasq)\n"
          ]
        },
        {
          "output_type": "execute_result",
          "data": {
            "text/plain": [
              "<matplotlib.axes._subplots.AxesSubplot at 0x7f229b2c19d0>"
            ]
          },
          "metadata": {},
          "execution_count": 23
        },
        {
          "output_type": "display_data",
          "data": {
            "image/png": "[encoded data removed]",
            "text/plain": [
              "<Figure size 432x288 with 1 Axes>"
            ]
          },
          "metadata": {
            "needs_background": "light"
          }
        },
        {
          "output_type": "display_data",
          "data": {
            "image/png": "[encoded data removed]",
            "text/plain": [
              "<Figure size 432x288 with 1 Axes>"
            ]
          },
          "metadata": {
            "needs_background": "light"
          }
        },
        {
          "output_type": "display_data",
          "data": {
            "image/png": "[encoded data removed]",
            "text/plain": [
              "<Figure size 432x288 with 1 Axes>"
            ]
          },
          "metadata": {
            "needs_background": "light"
          }
        },
        {
          "output_type": "display_data",
          "data": {
            "image/png": "[encoded data removed]",
            "text/plain": [
              "<Figure size 576x288 with 1 Axes>"
            ]
          },
          "metadata": {
            "needs_background": "light"
          }
        }
      ],
      "source": [
        "from statsmodels.graphics.tsaplots import plot_acf,plot_pacf\n",
        "plot_acf(indexedDataset)\n",
        "plot_acf(indexedDataset_diff)\n",
        "plot_pacf(indexedDataset_diff)\n",
        "indexedDataset_diff.plot(figsize=(8,4))\n"
      ]
    },
    {
      "cell_type": "code",
      "execution_count": null,
      "metadata": {
        "id": "fp-LWrs0RipA",
        "colab": {
          "base_uri": "https://localhost:8080/",
          "height": 297
        },
        "outputId": "2d959c33-fbf9-4398-8df2-e3027e8e3810"
      },
      "outputs": [
        {
          "output_type": "display_data",
          "data": {
            "image/png": "[encoded data removed]",
            "text/plain": [
              "<Figure size 432x288 with 1 Axes>"
            ]
          },
          "metadata": {
            "needs_background": "light"
          }
        }
      ],
      "source": [
        "#plot pacf\n",
        "plt.subplot(122)\n",
        "plt.plot(lag_pacf)\n",
        "plt.axhline(y=0,linestyle=\"--\",color=\"gray\")\n",
        "plt.axhline(y=1.96/np.sqrt(len(datasetlogdiffshifting)),linestyle='--',color='gray')\n",
        "plt.axhline(y=1.96/np.sqrt(len(datasetlogdiffshifting)),linestyle='--',color='gray')\n",
        "plt.title('partial autocorrealation funtcion')\n",
        "plt.tight_layout()"
      ]
    },
    {
      "cell_type": "code",
      "execution_count": null,
      "metadata": {
        "colab": {
          "base_uri": "https://localhost:8080/",
          "height": 388
        },
        "id": "Z-5uMD-2Rmkk",
        "outputId": "01fb3c0b-a334-456b-afd3-870dacc2ce52"
      },
      "outputs": [
        {
          "output_type": "stream",
          "name": "stderr",
          "text": [
            "/usr/local/lib/python3.7/dist-packages/statsmodels/tsa/base/tsa_model.py:165: ValueWarning: No frequency information was provided, so inferred frequency AS-JAN will be used.\n",
            "  % freq, ValueWarning)\n",
            "/usr/local/lib/python3.7/dist-packages/statsmodels/tsa/base/tsa_model.py:165: ValueWarning: No frequency information was provided, so inferred frequency AS-JAN will be used.\n",
            "  % freq, ValueWarning)\n"
          ]
        },
        {
          "output_type": "stream",
          "name": "stdout",
          "text": [
            "plotting AR model\n"
          ]
        },
        {
          "output_type": "display_data",
          "data": {
            "image/png": "[encoded data removed]",
            "text/plain": [
              "<Figure size 432x288 with 1 Axes>"
            ]
          },
          "metadata": {
            "needs_background": "light"
          }
        }
      ],
      "source": [
        "from statsmodels.tsa.arima_model import ARIMA\n",
        "#AR model\n",
        "model=ARIMA(indexedDataset_logscale,order=(2,1,2))\n",
        "result_AR=model.fit(disp=-1)\n",
        "plt.plot(datasetlogdiffshifting)\n",
        "plt.plot(result_AR.fittedvalues,color='red')\n",
        "plt.title('RSS:%4f'%sum((result_AR.fittedvalues-datasetlogdiffshifting[\"total_crimes\"])**2))\n",
        "print(\"plotting AR model\")"
      ]
    },
    {
      "cell_type": "code",
      "execution_count": null,
      "metadata": {
        "colab": {
          "base_uri": "https://localhost:8080/",
          "height": 388
        },
        "id": "1YGa3nDNRrE4",
        "outputId": "221ac215-09ec-401a-8137-67fc74371ef0"
      },
      "outputs": [
        {
          "output_type": "stream",
          "name": "stderr",
          "text": [
            "/usr/local/lib/python3.7/dist-packages/statsmodels/tsa/base/tsa_model.py:165: ValueWarning: No frequency information was provided, so inferred frequency AS-JAN will be used.\n",
            "  % freq, ValueWarning)\n",
            "/usr/local/lib/python3.7/dist-packages/statsmodels/tsa/base/tsa_model.py:165: ValueWarning: No frequency information was provided, so inferred frequency AS-JAN will be used.\n",
            "  % freq, ValueWarning)\n"
          ]
        },
        {
          "output_type": "stream",
          "name": "stdout",
          "text": [
            "plotting MA model\n"
          ]
        },
        {
          "output_type": "display_data",
          "data": {
            "image/png": "[encoded data removed]",
            "text/plain": [
              "<Figure size 432x288 with 1 Axes>"
            ]
          },
          "metadata": {
            "needs_background": "light"
          }
        }
      ],
      "source": [
        "#MA model\n",
        "model=ARIMA(indexedDataset_logscale,order=(2,1,0))\n",
        "results_MA=model.fit(disp=-1)\n",
        "plt.plot(datasetlogdiffshifting)\n",
        "plt.plot(results_MA.fittedvalues,color='red')\n",
        "plt.title('RSS:%4f'%sum((results_MA.fittedvalues-datasetlogdiffshifting['total_crimes'])**2))\n",
        "print('plotting MA model')"
      ]
    },
    {
      "cell_type": "code",
      "execution_count": null,
      "metadata": {
        "colab": {
          "base_uri": "https://localhost:8080/",
          "height": 718
        },
        "id": "kETC20LiRvLP",
        "outputId": "b7288544-67fc-4ca3-999b-3a16b9de7039"
      },
      "outputs": [
        {
          "output_type": "stream",
          "name": "stderr",
          "text": [
            "/usr/local/lib/python3.7/dist-packages/statsmodels/tsa/base/tsa_model.py:165: ValueWarning: No frequency information was provided, so inferred frequency AS-JAN will be used.\n",
            "  % freq, ValueWarning)\n",
            "/usr/local/lib/python3.7/dist-packages/statsmodels/tsa/base/tsa_model.py:165: ValueWarning: No frequency information was provided, so inferred frequency AS-JAN will be used.\n",
            "  % freq, ValueWarning)\n"
          ]
        },
        {
          "output_type": "stream",
          "name": "stdout",
          "text": [
            "year\n",
            "2002-01-01    0.012695\n",
            "2003-01-01   -0.063589\n",
            "2004-01-01   -0.030533\n",
            "2005-01-01   -0.079432\n",
            "2006-01-01   -0.049435\n",
            "2007-01-01   -0.089863\n",
            "2008-01-01   -0.132980\n",
            "2009-01-01   -0.206610\n",
            "2010-01-01   -0.210289\n",
            "2011-01-01   -0.224416\n",
            "2012-01-01   -0.252808\n",
            "2013-01-01   -0.273870\n",
            "2014-01-01   -0.458258\n",
            "2015-01-01    1.712307\n",
            "2016-01-01    0.066349\n",
            "2017-01-01    0.039666\n",
            "2018-01-01   -0.016455\n",
            "2019-01-01   -0.051375\n",
            "dtype: float64\n"
          ]
        },
        {
          "output_type": "display_data",
          "data": {
            "image/png": "[encoded data removed]",
            "text/plain": [
              "<Figure size 432x288 with 1 Axes>"
            ]
          },
          "metadata": {
            "needs_background": "light"
          }
        }
      ],
      "source": [
        "model=ARIMA(indexedDataset_logscale,order=(1,1,1))\n",
        "results_ARIMA=model.fit(disp=1)\n",
        "plt.plot(datasetlogdiffshifting)\n",
        "plt.plot(results_ARIMA.fittedvalues,color='red')\n",
        "plt.title('RSS:%4f'%sum((results_ARIMA.fittedvalues-datasetlogdiffshifting['total_crimes'])**2))\n",
        "predictions_ARIMA_diff=pd.Series(results_ARIMA.fittedvalues,copy=True)\n",
        "print(predictions_ARIMA_diff)"
      ]
    },
    {
      "cell_type": "code",
      "execution_count": null,
      "metadata": {
        "colab": {
          "base_uri": "https://localhost:8080/"
        },
        "id": "Ou7U7uV4RyZd",
        "outputId": "32846bc2-f274-4a2f-f568-22e3c0f3c9e8"
      },
      "outputs": [
        {
          "output_type": "stream",
          "name": "stdout",
          "text": [
            "year\n",
            "2002-01-01    0.012695\n",
            "2003-01-01   -0.050894\n",
            "2004-01-01   -0.081427\n",
            "2005-01-01   -0.160859\n",
            "2006-01-01   -0.210294\n",
            "2007-01-01   -0.300158\n",
            "2008-01-01   -0.433138\n",
            "2009-01-01   -0.639748\n",
            "2010-01-01   -0.850037\n",
            "2011-01-01   -1.074452\n",
            "2012-01-01   -1.327260\n",
            "2013-01-01   -1.601130\n",
            "2014-01-01   -2.059388\n",
            "2015-01-01   -0.347080\n",
            "2016-01-01   -0.280731\n",
            "2017-01-01   -0.241066\n",
            "2018-01-01   -0.257521\n",
            "2019-01-01   -0.308896\n",
            "dtype: float64\n"
          ]
        }
      ],
      "source": [
        "#convert to cumulative sum:\n",
        "predictions_ARIMA_diff_cumsum=predictions_ARIMA_diff.cumsum()\n",
        "print(predictions_ARIMA_diff_cumsum)"
      ]
    },
    {
      "cell_type": "code",
      "execution_count": null,
      "metadata": {
        "colab": {
          "base_uri": "https://localhost:8080/"
        },
        "id": "9ctV7cRUR2Fa",
        "outputId": "179e861e-c373-4b66-f096-3623686f3b71"
      },
      "outputs": [
        {
          "output_type": "execute_result",
          "data": {
            "text/plain": [
              "year\n",
              "2001-01-01    12.296192\n",
              "2002-01-01    12.469853\n",
              "2003-01-01    12.408599\n",
              "2004-01-01    12.467959\n",
              "2005-01-01    12.387480\n",
              "dtype: float64"
            ]
          },
          "metadata": {},
          "execution_count": 33
        }
      ],
      "source": [
        "predictions_ARIMA_log=pd.Series(indexedDataset_logscale['total_crimes'],index=indexedDataset_logscale.index)\n",
        "predictions_ARIMA_log=predictions_ARIMA_log.add(predictions_ARIMA_diff_cumsum,fill_value=0)\n",
        "predictions_ARIMA_log.head()"
      ]
    },
    {
      "cell_type": "code",
      "execution_count": null,
      "metadata": {
        "colab": {
          "base_uri": "https://localhost:8080/"
        },
        "id": "t3DmzRCTW4t3",
        "outputId": "bffb815a-99f2-4911-d8f7-48726ae4b92f"
      },
      "outputs": [
        {
          "output_type": "execute_result",
          "data": {
            "text/plain": [
              "(19, 1)"
            ]
          },
          "metadata": {},
          "execution_count": 34
        }
      ],
      "source": [
        "indexedDataset.shape"
      ]
    },
    {
      "cell_type": "code",
      "execution_count": null,
      "metadata": {
        "colab": {
          "base_uri": "https://localhost:8080/",
          "height": 764
        },
        "id": "SP7nvQvVR6IO",
        "outputId": "f63e61ca-779f-44af-ec39-f0980d50d855"
      },
      "outputs": [
        {
          "output_type": "execute_result",
          "data": {
            "image/png": "[encoded data removed]",
            "text/plain": [
              "<Figure size 432x288 with 1 Axes>"
            ]
          },
          "metadata": {},
          "execution_count": 35
        },
        {
          "output_type": "display_data",
          "data": {
            "image/png": "[encoded data removed]",
            "text/plain": [
              "<Figure size 432x288 with 1 Axes>"
            ]
          },
          "metadata": {
            "needs_background": "light"
          }
        },
        {
          "output_type": "display_data",
          "data": {
            "image/png": "[encoded data removed]",
            "text/plain": [
              "<Figure size 432x288 with 1 Axes>"
            ]
          },
          "metadata": {
            "needs_background": "light"
          }
        }
      ],
      "source": [
        "#from PyQt5.QtWidgets import *\n",
        "predictions_ARIMA=np.exp(predictions_ARIMA_log)\n",
        "plt.plot(indexedDataset)\n",
        "\n",
        "#plt.yticks(range(10000000,40000000))\n",
        "#plt.setLabel('left', 'Vertical Values', units='y')\n",
        "plt.plot(predictions_ARIMA)\n",
        "indexedDataset_logscale\n",
        "results_ARIMA.plot_predict(2,51)\n"
      ]
    },
    {
      "cell_type": "code",
      "execution_count": null,
      "metadata": {
        "colab": {
          "base_uri": "https://localhost:8080/"
        },
        "id": "5XVBYuKjSAyK",
        "outputId": "475f169e-3c02-43d3-e517-9ab212fe9685"
      },
      "outputs": [
        {
          "output_type": "execute_result",
          "data": {
            "text/plain": [
              "array([0.44389711, 0.4440836 , 0.44408375, 0.44408375, 0.44408375,\n",
              "       0.44408375, 0.44408375, 0.44408375, 0.44408375, 0.44408375,\n",
              "       0.44408375, 0.44408375, 0.44408375, 0.44408375, 0.44408375,\n",
              "       0.44408375, 0.44408375, 0.44408375, 0.44408375, 0.44408375,\n",
              "       0.44408375, 0.44408375, 0.44408375, 0.44408375, 0.44408375,\n",
              "       0.44408375, 0.44408375, 0.44408375, 0.44408375, 0.44408375,\n",
              "       0.44408375, 0.44408375, 0.44408375, 0.44408375, 0.44408375,\n",
              "       0.44408375, 0.44408375, 0.44408375, 0.44408375, 0.44408375,\n",
              "       0.44408375, 0.44408375, 0.44408375, 0.44408375, 0.44408375,\n",
              "       0.44408375, 0.44408375, 0.44408375, 0.44408375, 0.44408375,\n",
              "       0.44408375, 0.44408375, 0.44408375, 0.44408375, 0.44408375,\n",
              "       0.44408375, 0.44408375, 0.44408375, 0.44408375, 0.44408375,\n",
              "       0.44408375, 0.44408375, 0.44408375, 0.44408375, 0.44408375,\n",
              "       0.44408375, 0.44408375, 0.44408375, 0.44408375, 0.44408375,\n",
              "       0.44408375, 0.44408375, 0.44408375, 0.44408375, 0.44408375,\n",
              "       0.44408375, 0.44408375, 0.44408375, 0.44408375, 0.44408375,\n",
              "       0.44408375, 0.44408375, 0.44408375, 0.44408375, 0.44408375,\n",
              "       0.44408375, 0.44408375, 0.44408375, 0.44408375, 0.44408375,\n",
              "       0.44408375, 0.44408375, 0.44408375, 0.44408375, 0.44408375,\n",
              "       0.44408375, 0.44408375, 0.44408375, 0.44408375, 0.44408375,\n",
              "       0.44408375, 0.44408375, 0.44408375, 0.44408375, 0.44408375,\n",
              "       0.44408375, 0.44408375, 0.44408375, 0.44408375, 0.44408375,\n",
              "       0.44408375, 0.44408375, 0.44408375, 0.44408375, 0.44408375,\n",
              "       0.44408375, 0.44408375, 0.44408375, 0.44408375, 0.44408375])"
            ]
          },
          "metadata": {},
          "execution_count": 36
        }
      ],
      "source": [
        "x=results_ARIMA.forecast(steps=120)\n",
        "x[1]"
      ]
    },
    {
      "cell_type": "code",
      "execution_count": null,
      "metadata": {
        "colab": {
          "base_uri": "https://localhost:8080/"
        },
        "id": "8VENzF0QSD6Z",
        "outputId": "3a30c579-9d60-4e2c-a4a3-a8b20b9714c3"
      },
      "outputs": [
        {
          "output_type": "execute_result",
          "data": {
            "text/plain": [
              "array([1.55877009, 1.55906081, 1.55906106, 1.55906106, 1.55906106,\n",
              "       1.55906106, 1.55906106, 1.55906106, 1.55906106, 1.55906106,\n",
              "       1.55906106, 1.55906106, 1.55906106, 1.55906106, 1.55906106,\n",
              "       1.55906106, 1.55906106, 1.55906106, 1.55906106, 1.55906106,\n",
              "       1.55906106, 1.55906106, 1.55906106, 1.55906106, 1.55906106,\n",
              "       1.55906106, 1.55906106, 1.55906106, 1.55906106, 1.55906106,\n",
              "       1.55906106, 1.55906106, 1.55906106, 1.55906106, 1.55906106,\n",
              "       1.55906106, 1.55906106, 1.55906106, 1.55906106, 1.55906106,\n",
              "       1.55906106, 1.55906106, 1.55906106, 1.55906106, 1.55906106,\n",
              "       1.55906106, 1.55906106, 1.55906106, 1.55906106, 1.55906106,\n",
              "       1.55906106, 1.55906106, 1.55906106, 1.55906106, 1.55906106,\n",
              "       1.55906106, 1.55906106, 1.55906106, 1.55906106, 1.55906106,\n",
              "       1.55906106, 1.55906106, 1.55906106, 1.55906106, 1.55906106,\n",
              "       1.55906106, 1.55906106, 1.55906106, 1.55906106, 1.55906106,\n",
              "       1.55906106, 1.55906106, 1.55906106, 1.55906106, 1.55906106,\n",
              "       1.55906106, 1.55906106, 1.55906106, 1.55906106, 1.55906106,\n",
              "       1.55906106, 1.55906106, 1.55906106, 1.55906106, 1.55906106,\n",
              "       1.55906106, 1.55906106, 1.55906106, 1.55906106, 1.55906106,\n",
              "       1.55906106, 1.55906106, 1.55906106, 1.55906106, 1.55906106,\n",
              "       1.55906106, 1.55906106, 1.55906106, 1.55906106, 1.55906106,\n",
              "       1.55906106, 1.55906106, 1.55906106, 1.55906106, 1.55906106,\n",
              "       1.55906106, 1.55906106, 1.55906106, 1.55906106, 1.55906106,\n",
              "       1.55906106, 1.55906106, 1.55906106, 1.55906106, 1.55906106,\n",
              "       1.55906106, 1.55906106, 1.55906106, 1.55906106, 1.55906106])"
            ]
          },
          "metadata": {},
          "execution_count": 37
        }
      ],
      "source": [
        "np.exp(x[1])"
      ]
    },
    {
      "cell_type": "code",
      "execution_count": null,
      "metadata": {
        "colab": {
          "base_uri": "https://localhost:8080/"
        },
        "id": "OhsC-DQBSGjk",
        "outputId": "978fc277-5ee3-4e98-e836-36fd3bd667ad"
      },
      "outputs": [
        {
          "output_type": "execute_result",
          "data": {
            "text/plain": [
              "19"
            ]
          },
          "metadata": {},
          "execution_count": 38
        }
      ],
      "source": [
        "x=indexedDataset.values\n",
        "x.size"
      ]
    },
    {
      "cell_type": "code",
      "execution_count": null,
      "metadata": {
        "id": "x024enDQSJhe"
      },
      "outputs": [],
      "source": [
        "train=x[:15]\n",
        "test=x[15:]"
      ]
    },
    {
      "cell_type": "code",
      "execution_count": null,
      "metadata": {
        "colab": {
          "base_uri": "https://localhost:8080/"
        },
        "id": "3YiNRGFaSLus",
        "outputId": "568e73c4-c3cb-4abe-d8ea-a3adbcf88fdd"
      },
      "outputs": [
        {
          "output_type": "stream",
          "name": "stdout",
          "text": [
            "[[322949]\n",
            " [345989]\n",
            " [363817]\n",
            " [391601]]\n"
          ]
        },
        {
          "output_type": "execute_result",
          "data": {
            "text/plain": [
              "4"
            ]
          },
          "metadata": {},
          "execution_count": 43
        }
      ],
      "source": [
        "print(test)\n",
        "test.size"
      ]
    },
    {
      "cell_type": "code",
      "execution_count": null,
      "metadata": {
        "colab": {
          "base_uri": "https://localhost:8080/"
        },
        "id": "EajRREtOSOPE",
        "outputId": "6de33c70-fa3a-46d1-a5e0-6de8cbb0e199"
      },
      "outputs": [
        {
          "output_type": "stream",
          "name": "stdout",
          "text": [
            "nan\n"
          ]
        },
        {
          "output_type": "stream",
          "name": "stderr",
          "text": [
            "/usr/local/lib/python3.7/dist-packages/statsmodels/tsa/tsatools.py:651: RuntimeWarning: divide by zero encountered in arctanh\n",
            "  invarcoefs = 2*np.arctanh(params)\n",
            "/usr/local/lib/python3.7/dist-packages/statsmodels/tsa/kalmanf/kalmanfilter.py:221: RuntimeWarning: divide by zero encountered in true_divide\n",
            "  Z_mat, R_mat, T_mat)\n",
            "/usr/local/lib/python3.7/dist-packages/statsmodels/tsa/tsatools.py:624: RuntimeWarning: invalid value encountered in true_divide\n",
            "  newparams = np.tanh(params/2)\n",
            "/usr/local/lib/python3.7/dist-packages/statsmodels/tsa/tsatools.py:625: RuntimeWarning: invalid value encountered in true_divide\n",
            "  tmp = np.tanh(params/2)\n",
            "/usr/local/lib/python3.7/dist-packages/statsmodels/tsa/kalmanf/kalmanfilter.py:225: RuntimeWarning: divide by zero encountered in log\n",
            "  Z_mat.astype(complex), R_mat, T_mat)\n",
            "/usr/local/lib/python3.7/dist-packages/statsmodels/tsa/kalmanf/kalmanfilter.py:225: RuntimeWarning: divide by zero encountered in true_divide\n",
            "  Z_mat.astype(complex), R_mat, T_mat)\n",
            "/usr/local/lib/python3.7/dist-packages/statsmodels/tsa/kalmanf/kalmanfilter.py:225: RuntimeWarning: invalid value encountered in true_divide\n",
            "  Z_mat.astype(complex), R_mat, T_mat)\n",
            "/usr/local/lib/python3.7/dist-packages/statsmodels/tools/numdiff.py:243: RuntimeWarning: invalid value encountered in add\n",
            "  **kwargs)).imag/2./hess[i, j]\n",
            "/usr/local/lib/python3.7/dist-packages/statsmodels/tools/numdiff.py:243: RuntimeWarning: invalid value encountered in multiply\n",
            "  **kwargs)).imag/2./hess[i, j]\n",
            "/usr/local/lib/python3.7/dist-packages/statsmodels/base/model.py:492: HessianInversionWarning: Inverting hessian failed, no bse or cov_params available\n",
            "  'available', HessianInversionWarning)\n",
            "/usr/local/lib/python3.7/dist-packages/statsmodels/base/model.py:512: ConvergenceWarning: Maximum Likelihood optimization failed to converge. Check mle_retvals\n",
            "  \"Check mle_retvals\", ConvergenceWarning)\n"
          ]
        }
      ],
      "source": [
        "##arima model\n",
        "from statsmodels.tsa.arima_model import ARIMA\n",
        "model_arima=ARIMA(train,order=(1,2,0))\n",
        "model_arima_fit=model_arima.fit(disp=-1)\n",
        "print(model_arima_fit.aic)\n"
      ]
    },
    {
      "cell_type": "code",
      "execution_count": null,
      "metadata": {
        "colab": {
          "base_uri": "https://localhost:8080/"
        },
        "id": "MxhRH1neSRH_",
        "outputId": "a6d7a8c2-08fa-4634-e467-b1943a5984d6"
      },
      "outputs": [
        {
          "output_type": "execute_result",
          "data": {
            "text/plain": [
              "array([-4.95043793e+06, -9.20276321e+06, -6.13108784e+07, -1.75390430e+08,\n",
              "       -7.61695634e+08])"
            ]
          },
          "metadata": {},
          "execution_count": 46
        }
      ],
      "source": [
        "predictions=[]\n",
        "from statsmodels.tsa.ar_model import AR\n",
        "from sklearn.metrics import mean_squared_error\n",
        "\n",
        "model_ar=AR(train)\n",
        "model_ar_fit=model_ar.fit()\n",
        "prediction=model_ar_fit.predict(start=15,end=19)\n",
        "prediction"
      ]
    },
    {
      "cell_type": "code",
      "execution_count": null,
      "metadata": {
        "colab": {
          "base_uri": "https://localhost:8080/",
          "height": 293
        },
        "id": "r3rrM6isSUA2",
        "outputId": "85d909d3-74ce-4f7d-c32f-64993ce986e3"
      },
      "outputs": [
        {
          "output_type": "execute_result",
          "data": {
            "text/plain": [
              "[<matplotlib.lines.Line2D at 0x7f2298895cd0>]"
            ]
          },
          "metadata": {},
          "execution_count": 47
        },
        {
          "output_type": "display_data",
          "data": {
            "image/png": "[encoded data removed]",
            "text/plain": [
              "<Figure size 432x288 with 1 Axes>"
            ]
          },
          "metadata": {
            "needs_background": "light"
          }
        }
      ],
      "source": [
        "plt.plot(test)\n",
        "plt.plot(prediction,color='red')"
      ]
    },
    {
      "cell_type": "code",
      "execution_count": null,
      "metadata": {
        "colab": {
          "base_uri": "https://localhost:8080/"
        },
        "id": "qOHkjosJSYRM",
        "outputId": "4dc4b1e5-daf2-4e22-facb-295135f2fb01"
      },
      "outputs": [
        {
          "output_type": "execute_result",
          "data": {
            "text/plain": [
              "array([-226268.16676154,   -2304.33352309, -564641.66704617,\n",
              "       -365475.00056926, -952609.50085389])"
            ]
          },
          "metadata": {},
          "execution_count": 48
        }
      ],
      "source": [
        "predictions=model_arima_fit.forecast(steps=5)[0]\n",
        "predictions"
      ]
    },
    {
      "cell_type": "code",
      "execution_count": null,
      "metadata": {
        "colab": {
          "base_uri": "https://localhost:8080/"
        },
        "id": "RDuanXZVSaX1",
        "outputId": "4326c932-6ab0-4f12-a09d-0f5524e4fea6"
      },
      "outputs": [
        {
          "output_type": "execute_result",
          "data": {
            "text/plain": [
              "[(0, 0, 0),\n",
              " (0, 0, 1),\n",
              " (0, 0, 2),\n",
              " (0, 0, 3),\n",
              " (0, 0, 4),\n",
              " (0, 1, 0),\n",
              " (0, 1, 1),\n",
              " (0, 1, 2),\n",
              " (0, 1, 3),\n",
              " (0, 1, 4),\n",
              " (0, 2, 0),\n",
              " (0, 2, 1),\n",
              " (0, 2, 2),\n",
              " (0, 2, 3),\n",
              " (0, 2, 4),\n",
              " (0, 3, 0),\n",
              " (0, 3, 1),\n",
              " (0, 3, 2),\n",
              " (0, 3, 3),\n",
              " (0, 3, 4),\n",
              " (0, 4, 0),\n",
              " (0, 4, 1),\n",
              " (0, 4, 2),\n",
              " (0, 4, 3),\n",
              " (0, 4, 4),\n",
              " (1, 0, 0),\n",
              " (1, 0, 1),\n",
              " (1, 0, 2),\n",
              " (1, 0, 3),\n",
              " (1, 0, 4),\n",
              " (1, 1, 0),\n",
              " (1, 1, 1),\n",
              " (1, 1, 2),\n",
              " (1, 1, 3),\n",
              " (1, 1, 4),\n",
              " (1, 2, 0),\n",
              " (1, 2, 1),\n",
              " (1, 2, 2),\n",
              " (1, 2, 3),\n",
              " (1, 2, 4),\n",
              " (1, 3, 0),\n",
              " (1, 3, 1),\n",
              " (1, 3, 2),\n",
              " (1, 3, 3),\n",
              " (1, 3, 4),\n",
              " (1, 4, 0),\n",
              " (1, 4, 1),\n",
              " (1, 4, 2),\n",
              " (1, 4, 3),\n",
              " (1, 4, 4),\n",
              " (2, 0, 0),\n",
              " (2, 0, 1),\n",
              " (2, 0, 2),\n",
              " (2, 0, 3),\n",
              " (2, 0, 4),\n",
              " (2, 1, 0),\n",
              " (2, 1, 1),\n",
              " (2, 1, 2),\n",
              " (2, 1, 3),\n",
              " (2, 1, 4),\n",
              " (2, 2, 0),\n",
              " (2, 2, 1),\n",
              " (2, 2, 2),\n",
              " (2, 2, 3),\n",
              " (2, 2, 4),\n",
              " (2, 3, 0),\n",
              " (2, 3, 1),\n",
              " (2, 3, 2),\n",
              " (2, 3, 3),\n",
              " (2, 3, 4),\n",
              " (2, 4, 0),\n",
              " (2, 4, 1),\n",
              " (2, 4, 2),\n",
              " (2, 4, 3),\n",
              " (2, 4, 4),\n",
              " (3, 0, 0),\n",
              " (3, 0, 1),\n",
              " (3, 0, 2),\n",
              " (3, 0, 3),\n",
              " (3, 0, 4),\n",
              " (3, 1, 0),\n",
              " (3, 1, 1),\n",
              " (3, 1, 2),\n",
              " (3, 1, 3),\n",
              " (3, 1, 4),\n",
              " (3, 2, 0),\n",
              " (3, 2, 1),\n",
              " (3, 2, 2),\n",
              " (3, 2, 3),\n",
              " (3, 2, 4),\n",
              " (3, 3, 0),\n",
              " (3, 3, 1),\n",
              " (3, 3, 2),\n",
              " (3, 3, 3),\n",
              " (3, 3, 4),\n",
              " (3, 4, 0),\n",
              " (3, 4, 1),\n",
              " (3, 4, 2),\n",
              " (3, 4, 3),\n",
              " (3, 4, 4),\n",
              " (4, 0, 0),\n",
              " (4, 0, 1),\n",
              " (4, 0, 2),\n",
              " (4, 0, 3),\n",
              " (4, 0, 4),\n",
              " (4, 1, 0),\n",
              " (4, 1, 1),\n",
              " (4, 1, 2),\n",
              " (4, 1, 3),\n",
              " (4, 1, 4),\n",
              " (4, 2, 0),\n",
              " (4, 2, 1),\n",
              " (4, 2, 2),\n",
              " (4, 2, 3),\n",
              " (4, 2, 4),\n",
              " (4, 3, 0),\n",
              " (4, 3, 1),\n",
              " (4, 3, 2),\n",
              " (4, 3, 3),\n",
              " (4, 3, 4),\n",
              " (4, 4, 0),\n",
              " (4, 4, 1),\n",
              " (4, 4, 2),\n",
              " (4, 4, 3),\n",
              " (4, 4, 4)]"
            ]
          },
          "metadata": {},
          "execution_count": 49
        }
      ],
      "source": [
        "import itertools\n",
        "p=d=q=range(0,5)\n",
        "pdq=list(itertools.product(p,d,q))\n",
        "pdq\n"
      ]
    },
    {
      "cell_type": "code",
      "execution_count": null,
      "metadata": {
        "colab": {
          "base_uri": "https://localhost:8080/"
        },
        "id": "lhWNNhhySdBb",
        "outputId": "aeb919e6-48f7-40b2-e9e3-17eeeb1fbff7"
      },
      "outputs": [
        {
          "output_type": "stream",
          "name": "stdout",
          "text": [
            "(0, 0, 0) 395.99307049901216\n",
            "(0, 0, 1) 397.8936708154797\n",
            "(0, 0, 2) 399.6339456392096\n",
            "(0, 0, 3) 402.8265927394607\n",
            "(0, 0, 4) 403.1948418313582\n",
            "(0, 1, 0) 378.7149145154741\n",
            "(0, 1, 1) 373.8797502544063\n",
            "(0, 2, 0) 366.5779925215285\n",
            "(0, 2, 1) 357.404152811058\n",
            "(1, 0, 0) 397.874082445049\n",
            "(1, 1, 0) 375.4642674501636\n",
            "(1, 1, 2) 377.972102321519\n",
            "(1, 2, 0) nan\n",
            "(2, 0, 0) 399.65812793167925\n",
            "(2, 0, 1) 403.08097865435684\n",
            "(2, 1, 0) 401.10552494925054\n",
            "(3, 0, 0) 401.59772243777593\n",
            "(3, 0, 1) 401.51539457650745\n",
            "(4, 0, 0) 432.39835841098056\n",
            "(4, 2, 0) 407.1704750493526\n"
          ]
        }
      ],
      "source": [
        "\n",
        "import warnings\n",
        "warnings.filterwarnings('ignore')\n",
        "for param in pdq:\n",
        "  try:\n",
        "    model_arima=model_arima=ARIMA(train,order=param)\n",
        "    model_arima_fit=model_arima.fit()\n",
        "    print(param,model_arima_fit.aic)\n",
        "  except:\n",
        "     continue"
      ]
    }
  ],
  "metadata": {
    "colab": {
      "provenance": [],
      "authorship_tag": "ABX9TyOtJD3jgTmUnIwCRYGZkJZU",
      "include_colab_link": true
    },
    "kernelspec": {
      "display_name": "Python 3",
      "name": "python3"
    },
    "language_info": {
      "name": "python"
    }
  },
  "nbformat": 4,
  "nbformat_minor": 0
}